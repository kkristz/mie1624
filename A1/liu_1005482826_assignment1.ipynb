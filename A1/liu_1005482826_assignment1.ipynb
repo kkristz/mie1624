{
 "cells": [
  {
   "cell_type": "markdown",
   "metadata": {},
   "source": [
    "# A1"
   ]
  },
  {
   "cell_type": "code",
   "execution_count": 1,
   "metadata": {},
   "outputs": [],
   "source": [
    "import pandas as pd\n",
    "import numpy as np\n",
    "import seaborn as sns\n",
    "import matplotlib.pyplot as plt\n",
    "\n",
    "import collections"
   ]
  },
  {
   "cell_type": "markdown",
   "metadata": {},
   "source": [
    "## 0. Data Load & Info"
   ]
  },
  {
   "cell_type": "code",
   "execution_count": 2,
   "metadata": {},
   "outputs": [
    {
     "name": "stderr",
     "output_type": "stream",
     "text": [
      "/Users/liuweilin/opt/anaconda3/lib/python3.7/site-packages/IPython/core/interactiveshell.py:3058: DtypeWarning: Columns (73,77,114,146,153,171,175,212,224,228,231) have mixed types. Specify dtype option on import or set low_memory=False.\n",
      "  interactivity=interactivity, compiler=compiler, result=result)\n"
     ]
    }
   ],
   "source": [
    "df = pd.read_csv(\"Kaggle_Salary.csv\")"
   ]
  },
  {
   "cell_type": "code",
   "execution_count": 3,
   "metadata": {},
   "outputs": [
    {
     "data": {
      "text/html": [
       "<div>\n",
       "<style scoped>\n",
       "    .dataframe tbody tr th:only-of-type {\n",
       "        vertical-align: middle;\n",
       "    }\n",
       "\n",
       "    .dataframe tbody tr th {\n",
       "        vertical-align: top;\n",
       "    }\n",
       "\n",
       "    .dataframe thead th {\n",
       "        text-align: right;\n",
       "    }\n",
       "</style>\n",
       "<table border=\"1\" class=\"dataframe\">\n",
       "  <thead>\n",
       "    <tr style=\"text-align: right;\">\n",
       "      <th></th>\n",
       "      <th>Time from Start to Finish (seconds)</th>\n",
       "      <th>Q1</th>\n",
       "      <th>Q2</th>\n",
       "      <th>Q2_OTHER_TEXT</th>\n",
       "      <th>Q3</th>\n",
       "      <th>Q4</th>\n",
       "      <th>Q5</th>\n",
       "      <th>Q5_OTHER_TEXT</th>\n",
       "      <th>Q6</th>\n",
       "      <th>Q7</th>\n",
       "      <th>...</th>\n",
       "      <th>Q34_Part_6</th>\n",
       "      <th>Q34_Part_7</th>\n",
       "      <th>Q34_Part_8</th>\n",
       "      <th>Q34_Part_9</th>\n",
       "      <th>Q34_Part_10</th>\n",
       "      <th>Q34_Part_11</th>\n",
       "      <th>Q34_Part_12</th>\n",
       "      <th>Q34_OTHER_TEXT</th>\n",
       "      <th>Q10_Encoded</th>\n",
       "      <th>Q10_buckets</th>\n",
       "    </tr>\n",
       "  </thead>\n",
       "  <tbody>\n",
       "    <tr>\n",
       "      <td>0</td>\n",
       "      <td>510</td>\n",
       "      <td>22-24</td>\n",
       "      <td>Male</td>\n",
       "      <td>-1</td>\n",
       "      <td>France</td>\n",
       "      <td>Master’s degree</td>\n",
       "      <td>Software Engineer</td>\n",
       "      <td>-1</td>\n",
       "      <td>1000-9,999 employees</td>\n",
       "      <td>0</td>\n",
       "      <td>...</td>\n",
       "      <td>NaN</td>\n",
       "      <td>NaN</td>\n",
       "      <td>NaN</td>\n",
       "      <td>NaN</td>\n",
       "      <td>NaN</td>\n",
       "      <td>NaN</td>\n",
       "      <td>NaN</td>\n",
       "      <td>-1</td>\n",
       "      <td>3</td>\n",
       "      <td>30,000-39,999</td>\n",
       "    </tr>\n",
       "    <tr>\n",
       "      <td>1</td>\n",
       "      <td>423</td>\n",
       "      <td>40-44</td>\n",
       "      <td>Male</td>\n",
       "      <td>-1</td>\n",
       "      <td>India</td>\n",
       "      <td>Professional degree</td>\n",
       "      <td>Software Engineer</td>\n",
       "      <td>-1</td>\n",
       "      <td>&gt; 10,000 employees</td>\n",
       "      <td>20+</td>\n",
       "      <td>...</td>\n",
       "      <td>NaN</td>\n",
       "      <td>NaN</td>\n",
       "      <td>NaN</td>\n",
       "      <td>NaN</td>\n",
       "      <td>NaN</td>\n",
       "      <td>NaN</td>\n",
       "      <td>NaN</td>\n",
       "      <td>-1</td>\n",
       "      <td>0</td>\n",
       "      <td>0-9,999</td>\n",
       "    </tr>\n",
       "    <tr>\n",
       "      <td>2</td>\n",
       "      <td>391</td>\n",
       "      <td>40-44</td>\n",
       "      <td>Male</td>\n",
       "      <td>-1</td>\n",
       "      <td>Australia</td>\n",
       "      <td>Master’s degree</td>\n",
       "      <td>Other</td>\n",
       "      <td>0</td>\n",
       "      <td>&gt; 10,000 employees</td>\n",
       "      <td>20+</td>\n",
       "      <td>...</td>\n",
       "      <td>NaN</td>\n",
       "      <td>NaN</td>\n",
       "      <td>NaN</td>\n",
       "      <td>Azure SQL Database</td>\n",
       "      <td>NaN</td>\n",
       "      <td>NaN</td>\n",
       "      <td>NaN</td>\n",
       "      <td>-1</td>\n",
       "      <td>14</td>\n",
       "      <td>&gt;250,000</td>\n",
       "    </tr>\n",
       "    <tr>\n",
       "      <td>3</td>\n",
       "      <td>392</td>\n",
       "      <td>22-24</td>\n",
       "      <td>Male</td>\n",
       "      <td>-1</td>\n",
       "      <td>India</td>\n",
       "      <td>Bachelor’s degree</td>\n",
       "      <td>Other</td>\n",
       "      <td>1</td>\n",
       "      <td>0-49 employees</td>\n",
       "      <td>0</td>\n",
       "      <td>...</td>\n",
       "      <td>NaN</td>\n",
       "      <td>NaN</td>\n",
       "      <td>NaN</td>\n",
       "      <td>NaN</td>\n",
       "      <td>NaN</td>\n",
       "      <td>NaN</td>\n",
       "      <td>NaN</td>\n",
       "      <td>-1</td>\n",
       "      <td>0</td>\n",
       "      <td>0-9,999</td>\n",
       "    </tr>\n",
       "    <tr>\n",
       "      <td>4</td>\n",
       "      <td>470</td>\n",
       "      <td>50-54</td>\n",
       "      <td>Male</td>\n",
       "      <td>-1</td>\n",
       "      <td>France</td>\n",
       "      <td>Master’s degree</td>\n",
       "      <td>Data Scientist</td>\n",
       "      <td>-1</td>\n",
       "      <td>0-49 employees</td>\n",
       "      <td>3-4</td>\n",
       "      <td>...</td>\n",
       "      <td>NaN</td>\n",
       "      <td>AWS Relational Database Service</td>\n",
       "      <td>NaN</td>\n",
       "      <td>NaN</td>\n",
       "      <td>NaN</td>\n",
       "      <td>NaN</td>\n",
       "      <td>NaN</td>\n",
       "      <td>-1</td>\n",
       "      <td>6</td>\n",
       "      <td>60,000-69,999</td>\n",
       "    </tr>\n",
       "  </tbody>\n",
       "</table>\n",
       "<p>5 rows × 248 columns</p>\n",
       "</div>"
      ],
      "text/plain": [
       "   Time from Start to Finish (seconds)     Q1    Q2  Q2_OTHER_TEXT         Q3  \\\n",
       "0                                  510  22-24  Male             -1     France   \n",
       "1                                  423  40-44  Male             -1      India   \n",
       "2                                  391  40-44  Male             -1  Australia   \n",
       "3                                  392  22-24  Male             -1      India   \n",
       "4                                  470  50-54  Male             -1     France   \n",
       "\n",
       "                    Q4                 Q5  Q5_OTHER_TEXT  \\\n",
       "0      Master’s degree  Software Engineer             -1   \n",
       "1  Professional degree  Software Engineer             -1   \n",
       "2      Master’s degree              Other              0   \n",
       "3    Bachelor’s degree              Other              1   \n",
       "4      Master’s degree     Data Scientist             -1   \n",
       "\n",
       "                     Q6   Q7  ... Q34_Part_6                       Q34_Part_7  \\\n",
       "0  1000-9,999 employees    0  ...        NaN                              NaN   \n",
       "1    > 10,000 employees  20+  ...        NaN                              NaN   \n",
       "2    > 10,000 employees  20+  ...        NaN                              NaN   \n",
       "3        0-49 employees    0  ...        NaN                              NaN   \n",
       "4        0-49 employees  3-4  ...        NaN  AWS Relational Database Service   \n",
       "\n",
       "  Q34_Part_8          Q34_Part_9 Q34_Part_10 Q34_Part_11 Q34_Part_12  \\\n",
       "0        NaN                 NaN         NaN         NaN         NaN   \n",
       "1        NaN                 NaN         NaN         NaN         NaN   \n",
       "2        NaN  Azure SQL Database         NaN         NaN         NaN   \n",
       "3        NaN                 NaN         NaN         NaN         NaN   \n",
       "4        NaN                 NaN         NaN         NaN         NaN   \n",
       "\n",
       "  Q34_OTHER_TEXT Q10_Encoded    Q10_buckets  \n",
       "0             -1           3  30,000-39,999  \n",
       "1             -1           0        0-9,999  \n",
       "2             -1          14       >250,000  \n",
       "3             -1           0        0-9,999  \n",
       "4             -1           6  60,000-69,999  \n",
       "\n",
       "[5 rows x 248 columns]"
      ]
     },
     "execution_count": 3,
     "metadata": {},
     "output_type": "execute_result"
    }
   ],
   "source": [
    "df.head()"
   ]
  },
  {
   "cell_type": "code",
   "execution_count": 4,
   "metadata": {},
   "outputs": [
    {
     "name": "stdout",
     "output_type": "stream",
     "text": [
      "<class 'pandas.core.frame.DataFrame'>\n",
      "RangeIndex: 12497 entries, 0 to 12496\n",
      "Columns: 248 entries, Time from Start to Finish (seconds) to Q10_buckets\n",
      "dtypes: int64(30), object(218)\n",
      "memory usage: 23.6+ MB\n"
     ]
    }
   ],
   "source": [
    "df.info()"
   ]
  },
  {
   "cell_type": "code",
   "execution_count": 5,
   "metadata": {},
   "outputs": [
    {
     "data": {
      "text/html": [
       "<div>\n",
       "<style scoped>\n",
       "    .dataframe tbody tr th:only-of-type {\n",
       "        vertical-align: middle;\n",
       "    }\n",
       "\n",
       "    .dataframe tbody tr th {\n",
       "        vertical-align: top;\n",
       "    }\n",
       "\n",
       "    .dataframe thead th {\n",
       "        text-align: right;\n",
       "    }\n",
       "</style>\n",
       "<table border=\"1\" class=\"dataframe\">\n",
       "  <thead>\n",
       "    <tr style=\"text-align: right;\">\n",
       "      <th></th>\n",
       "      <th>Time from Start to Finish (seconds)</th>\n",
       "      <th>Q2_OTHER_TEXT</th>\n",
       "      <th>Q5_OTHER_TEXT</th>\n",
       "      <th>Q9_OTHER_TEXT</th>\n",
       "      <th>Q12_OTHER_TEXT</th>\n",
       "      <th>Q13_OTHER_TEXT</th>\n",
       "      <th>Q14_Part_1_TEXT</th>\n",
       "      <th>Q14_Part_2_TEXT</th>\n",
       "      <th>Q14_Part_3_TEXT</th>\n",
       "      <th>Q14_Part_4_TEXT</th>\n",
       "      <th>...</th>\n",
       "      <th>Q26_OTHER_TEXT</th>\n",
       "      <th>Q27_OTHER_TEXT</th>\n",
       "      <th>Q28_OTHER_TEXT</th>\n",
       "      <th>Q29_OTHER_TEXT</th>\n",
       "      <th>Q30_OTHER_TEXT</th>\n",
       "      <th>Q31_OTHER_TEXT</th>\n",
       "      <th>Q32_OTHER_TEXT</th>\n",
       "      <th>Q33_OTHER_TEXT</th>\n",
       "      <th>Q34_OTHER_TEXT</th>\n",
       "      <th>Q10_Encoded</th>\n",
       "    </tr>\n",
       "  </thead>\n",
       "  <tbody>\n",
       "    <tr>\n",
       "      <td>count</td>\n",
       "      <td>12497.000000</td>\n",
       "      <td>12497.000000</td>\n",
       "      <td>12497.000000</td>\n",
       "      <td>12497.000000</td>\n",
       "      <td>12497.000000</td>\n",
       "      <td>12497.000000</td>\n",
       "      <td>12497.000000</td>\n",
       "      <td>12497.000000</td>\n",
       "      <td>12497.000000</td>\n",
       "      <td>12497.000000</td>\n",
       "      <td>...</td>\n",
       "      <td>12497.000000</td>\n",
       "      <td>12497.00000</td>\n",
       "      <td>12497.000000</td>\n",
       "      <td>12497.000000</td>\n",
       "      <td>12497.000000</td>\n",
       "      <td>12497.000000</td>\n",
       "      <td>12497.000000</td>\n",
       "      <td>12497.000000</td>\n",
       "      <td>12497.000000</td>\n",
       "      <td>12497.000000</td>\n",
       "    </tr>\n",
       "    <tr>\n",
       "      <td>mean</td>\n",
       "      <td>14186.510202</td>\n",
       "      <td>-0.963191</td>\n",
       "      <td>29.216932</td>\n",
       "      <td>-0.250940</td>\n",
       "      <td>8.103465</td>\n",
       "      <td>20.657998</td>\n",
       "      <td>25.922621</td>\n",
       "      <td>4.303833</td>\n",
       "      <td>3.934304</td>\n",
       "      <td>262.422101</td>\n",
       "      <td>...</td>\n",
       "      <td>-0.959030</td>\n",
       "      <td>-0.96015</td>\n",
       "      <td>0.146995</td>\n",
       "      <td>-0.432104</td>\n",
       "      <td>-0.024486</td>\n",
       "      <td>-0.075458</td>\n",
       "      <td>-0.396975</td>\n",
       "      <td>-0.762663</td>\n",
       "      <td>0.084420</td>\n",
       "      <td>3.920061</td>\n",
       "    </tr>\n",
       "    <tr>\n",
       "      <td>std</td>\n",
       "      <td>72866.379285</td>\n",
       "      <td>0.978525</td>\n",
       "      <td>122.208237</td>\n",
       "      <td>8.257127</td>\n",
       "      <td>51.449272</td>\n",
       "      <td>101.726742</td>\n",
       "      <td>119.957741</td>\n",
       "      <td>33.044706</td>\n",
       "      <td>31.519867</td>\n",
       "      <td>615.567766</td>\n",
       "      <td>...</td>\n",
       "      <td>0.969486</td>\n",
       "      <td>0.93225</td>\n",
       "      <td>10.517404</td>\n",
       "      <td>6.495225</td>\n",
       "      <td>9.436367</td>\n",
       "      <td>9.187520</td>\n",
       "      <td>6.270585</td>\n",
       "      <td>3.395293</td>\n",
       "      <td>9.675712</td>\n",
       "      <td>4.188416</td>\n",
       "    </tr>\n",
       "    <tr>\n",
       "      <td>min</td>\n",
       "      <td>67.000000</td>\n",
       "      <td>-1.000000</td>\n",
       "      <td>-1.000000</td>\n",
       "      <td>-1.000000</td>\n",
       "      <td>-1.000000</td>\n",
       "      <td>-1.000000</td>\n",
       "      <td>-1.000000</td>\n",
       "      <td>-1.000000</td>\n",
       "      <td>-1.000000</td>\n",
       "      <td>-1.000000</td>\n",
       "      <td>...</td>\n",
       "      <td>-1.000000</td>\n",
       "      <td>-1.00000</td>\n",
       "      <td>-1.000000</td>\n",
       "      <td>-1.000000</td>\n",
       "      <td>-1.000000</td>\n",
       "      <td>-1.000000</td>\n",
       "      <td>-1.000000</td>\n",
       "      <td>-1.000000</td>\n",
       "      <td>-1.000000</td>\n",
       "      <td>0.000000</td>\n",
       "    </tr>\n",
       "    <tr>\n",
       "      <td>25%</td>\n",
       "      <td>448.000000</td>\n",
       "      <td>-1.000000</td>\n",
       "      <td>-1.000000</td>\n",
       "      <td>-1.000000</td>\n",
       "      <td>-1.000000</td>\n",
       "      <td>-1.000000</td>\n",
       "      <td>-1.000000</td>\n",
       "      <td>-1.000000</td>\n",
       "      <td>-1.000000</td>\n",
       "      <td>-1.000000</td>\n",
       "      <td>...</td>\n",
       "      <td>-1.000000</td>\n",
       "      <td>-1.00000</td>\n",
       "      <td>-1.000000</td>\n",
       "      <td>-1.000000</td>\n",
       "      <td>-1.000000</td>\n",
       "      <td>-1.000000</td>\n",
       "      <td>-1.000000</td>\n",
       "      <td>-1.000000</td>\n",
       "      <td>-1.000000</td>\n",
       "      <td>0.000000</td>\n",
       "    </tr>\n",
       "    <tr>\n",
       "      <td>50%</td>\n",
       "      <td>636.000000</td>\n",
       "      <td>-1.000000</td>\n",
       "      <td>-1.000000</td>\n",
       "      <td>-1.000000</td>\n",
       "      <td>-1.000000</td>\n",
       "      <td>-1.000000</td>\n",
       "      <td>-1.000000</td>\n",
       "      <td>-1.000000</td>\n",
       "      <td>-1.000000</td>\n",
       "      <td>-1.000000</td>\n",
       "      <td>...</td>\n",
       "      <td>-1.000000</td>\n",
       "      <td>-1.00000</td>\n",
       "      <td>-1.000000</td>\n",
       "      <td>-1.000000</td>\n",
       "      <td>-1.000000</td>\n",
       "      <td>-1.000000</td>\n",
       "      <td>-1.000000</td>\n",
       "      <td>-1.000000</td>\n",
       "      <td>-1.000000</td>\n",
       "      <td>2.000000</td>\n",
       "    </tr>\n",
       "    <tr>\n",
       "      <td>75%</td>\n",
       "      <td>1054.000000</td>\n",
       "      <td>-1.000000</td>\n",
       "      <td>-1.000000</td>\n",
       "      <td>-1.000000</td>\n",
       "      <td>-1.000000</td>\n",
       "      <td>-1.000000</td>\n",
       "      <td>-1.000000</td>\n",
       "      <td>-1.000000</td>\n",
       "      <td>-1.000000</td>\n",
       "      <td>56.000000</td>\n",
       "      <td>...</td>\n",
       "      <td>-1.000000</td>\n",
       "      <td>-1.00000</td>\n",
       "      <td>-1.000000</td>\n",
       "      <td>-1.000000</td>\n",
       "      <td>-1.000000</td>\n",
       "      <td>-1.000000</td>\n",
       "      <td>-1.000000</td>\n",
       "      <td>-1.000000</td>\n",
       "      <td>-1.000000</td>\n",
       "      <td>7.000000</td>\n",
       "    </tr>\n",
       "    <tr>\n",
       "      <td>max</td>\n",
       "      <td>843612.000000</td>\n",
       "      <td>39.000000</td>\n",
       "      <td>877.000000</td>\n",
       "      <td>137.000000</td>\n",
       "      <td>491.000000</td>\n",
       "      <td>812.000000</td>\n",
       "      <td>935.000000</td>\n",
       "      <td>366.000000</td>\n",
       "      <td>337.000000</td>\n",
       "      <td>2840.000000</td>\n",
       "      <td>...</td>\n",
       "      <td>35.000000</td>\n",
       "      <td>31.00000</td>\n",
       "      <td>162.000000</td>\n",
       "      <td>113.000000</td>\n",
       "      <td>143.000000</td>\n",
       "      <td>142.000000</td>\n",
       "      <td>108.000000</td>\n",
       "      <td>74.000000</td>\n",
       "      <td>144.000000</td>\n",
       "      <td>14.000000</td>\n",
       "    </tr>\n",
       "  </tbody>\n",
       "</table>\n",
       "<p>8 rows × 30 columns</p>\n",
       "</div>"
      ],
      "text/plain": [
       "       Time from Start to Finish (seconds)  Q2_OTHER_TEXT  Q5_OTHER_TEXT  \\\n",
       "count                         12497.000000   12497.000000   12497.000000   \n",
       "mean                          14186.510202      -0.963191      29.216932   \n",
       "std                           72866.379285       0.978525     122.208237   \n",
       "min                              67.000000      -1.000000      -1.000000   \n",
       "25%                             448.000000      -1.000000      -1.000000   \n",
       "50%                             636.000000      -1.000000      -1.000000   \n",
       "75%                            1054.000000      -1.000000      -1.000000   \n",
       "max                          843612.000000      39.000000     877.000000   \n",
       "\n",
       "       Q9_OTHER_TEXT  Q12_OTHER_TEXT  Q13_OTHER_TEXT  Q14_Part_1_TEXT  \\\n",
       "count   12497.000000    12497.000000    12497.000000     12497.000000   \n",
       "mean       -0.250940        8.103465       20.657998        25.922621   \n",
       "std         8.257127       51.449272      101.726742       119.957741   \n",
       "min        -1.000000       -1.000000       -1.000000        -1.000000   \n",
       "25%        -1.000000       -1.000000       -1.000000        -1.000000   \n",
       "50%        -1.000000       -1.000000       -1.000000        -1.000000   \n",
       "75%        -1.000000       -1.000000       -1.000000        -1.000000   \n",
       "max       137.000000      491.000000      812.000000       935.000000   \n",
       "\n",
       "       Q14_Part_2_TEXT  Q14_Part_3_TEXT  Q14_Part_4_TEXT  ...  Q26_OTHER_TEXT  \\\n",
       "count     12497.000000     12497.000000     12497.000000  ...    12497.000000   \n",
       "mean          4.303833         3.934304       262.422101  ...       -0.959030   \n",
       "std          33.044706        31.519867       615.567766  ...        0.969486   \n",
       "min          -1.000000        -1.000000        -1.000000  ...       -1.000000   \n",
       "25%          -1.000000        -1.000000        -1.000000  ...       -1.000000   \n",
       "50%          -1.000000        -1.000000        -1.000000  ...       -1.000000   \n",
       "75%          -1.000000        -1.000000        56.000000  ...       -1.000000   \n",
       "max         366.000000       337.000000      2840.000000  ...       35.000000   \n",
       "\n",
       "       Q27_OTHER_TEXT  Q28_OTHER_TEXT  Q29_OTHER_TEXT  Q30_OTHER_TEXT  \\\n",
       "count     12497.00000    12497.000000    12497.000000    12497.000000   \n",
       "mean         -0.96015        0.146995       -0.432104       -0.024486   \n",
       "std           0.93225       10.517404        6.495225        9.436367   \n",
       "min          -1.00000       -1.000000       -1.000000       -1.000000   \n",
       "25%          -1.00000       -1.000000       -1.000000       -1.000000   \n",
       "50%          -1.00000       -1.000000       -1.000000       -1.000000   \n",
       "75%          -1.00000       -1.000000       -1.000000       -1.000000   \n",
       "max          31.00000      162.000000      113.000000      143.000000   \n",
       "\n",
       "       Q31_OTHER_TEXT  Q32_OTHER_TEXT  Q33_OTHER_TEXT  Q34_OTHER_TEXT  \\\n",
       "count    12497.000000    12497.000000    12497.000000    12497.000000   \n",
       "mean        -0.075458       -0.396975       -0.762663        0.084420   \n",
       "std          9.187520        6.270585        3.395293        9.675712   \n",
       "min         -1.000000       -1.000000       -1.000000       -1.000000   \n",
       "25%         -1.000000       -1.000000       -1.000000       -1.000000   \n",
       "50%         -1.000000       -1.000000       -1.000000       -1.000000   \n",
       "75%         -1.000000       -1.000000       -1.000000       -1.000000   \n",
       "max        142.000000      108.000000       74.000000      144.000000   \n",
       "\n",
       "        Q10_Encoded  \n",
       "count  12497.000000  \n",
       "mean       3.920061  \n",
       "std        4.188416  \n",
       "min        0.000000  \n",
       "25%        0.000000  \n",
       "50%        2.000000  \n",
       "75%        7.000000  \n",
       "max       14.000000  \n",
       "\n",
       "[8 rows x 30 columns]"
      ]
     },
     "execution_count": 5,
     "metadata": {},
     "output_type": "execute_result"
    }
   ],
   "source": [
    "df.describe()"
   ]
  },
  {
   "cell_type": "markdown",
   "metadata": {},
   "source": [
    "## 1. Data Cleaning"
   ]
  },
  {
   "cell_type": "markdown",
   "metadata": {},
   "source": [
    "### 1.1 Modify Q3(country) column\n",
    "We find that the data covers the people from almost 60 countries and could result in large number of oneencoding features. In the same time, few number of people could not reflect the overall situation in one country. Therefore, we decide to forcus on **India** and **United States of America** and assign **Other** to the rest of the countries. Obviously, the size of the data remains the same."
   ]
  },
  {
   "cell_type": "code",
   "execution_count": 6,
   "metadata": {},
   "outputs": [
    {
     "data": {
      "text/plain": [
       "<matplotlib.axes._subplots.AxesSubplot at 0x1a1bb23990>"
      ]
     },
     "execution_count": 6,
     "metadata": {},
     "output_type": "execute_result"
    },
    {
     "data": {
      "image/png": "[encoded data removed]",
      "text/plain": [
       "<Figure size 1440x360 with 1 Axes>"
      ]
     },
     "metadata": {
      "needs_background": "light"
     },
     "output_type": "display_data"
    }
   ],
   "source": [
    "# Show the distribution of Q3\n",
    "Q3_cates = [v for v in df['Q3'].unique() if type(v) == str]\n",
    "fig, ax = plt.subplots(figsize=(20,5))\n",
    "sns.countplot(x='Q3', data=df, ax=ax, order=Q3_cates)"
   ]
  },
  {
   "cell_type": "code",
   "execution_count": 7,
   "metadata": {},
   "outputs": [
    {
     "name": "stdout",
     "output_type": "stream",
     "text": [
      "Countries Rank:\n"
     ]
    },
    {
     "data": {
      "text/plain": [
       "India                                                   2477\n",
       "United States of America                                2134\n",
       "Other                                                    705\n",
       "Brazil                                                   535\n",
       "Japan                                                    480\n",
       "Russia                                                   426\n",
       "Germany                                                  360\n",
       "United Kingdom of Great Britain and Northern Ireland     333\n",
       "Spain                                                    316\n",
       "Canada                                                   301\n",
       "Name: Q3, dtype: int64"
      ]
     },
     "execution_count": 7,
     "metadata": {},
     "output_type": "execute_result"
    }
   ],
   "source": [
    "print (\"Countries Rank:\")\n",
    "df['Q3'].value_counts().head(10)"
   ]
  },
  {
   "cell_type": "code",
   "execution_count": 8,
   "metadata": {},
   "outputs": [
    {
     "data": {
      "text/plain": [
       "<matplotlib.axes._subplots.AxesSubplot at 0x107acd150>"
      ]
     },
     "execution_count": 8,
     "metadata": {},
     "output_type": "execute_result"
    },
    {
     "data": {
      "image/png": "[encoded data removed]",
      "text/plain": [
       "<Figure size 1080x360 with 1 Axes>"
      ]
     },
     "metadata": {
      "needs_background": "light"
     },
     "output_type": "display_data"
    }
   ],
   "source": [
    "# Change the rest of the countries as Other\n",
    "countries_selected = [\"India\", \"United States of America\", \"Brazil\", \"Japan\", \"Russia\"]\n",
    "df[\"Q3\"]=df[\"Q3\"].apply(lambda x: x if x in countries_selected else \"Other\")\n",
    "fig, ax = plt.subplots(figsize=(15,5))\n",
    "sns.countplot(x='Q3', ax=ax, data=df)"
   ]
  },
  {
   "cell_type": "markdown",
   "metadata": {},
   "source": [
    "### 1.2 Identify real NaN\n",
    "Since null values in some columns(Qx_Part_x) indicate the user did not select the option in multiple questions, \n",
    "we need to encode value as 1 if not null else 0 "
   ]
  },
  {
   "cell_type": "code",
   "execution_count": 9,
   "metadata": {},
   "outputs": [
    {
     "name": "stdout",
     "output_type": "stream",
     "text": [
      "Q11 247 0.019764743538449227\n",
      "Q14 1045 0.08362006881651596\n",
      "Q15 1075 0.08602064495478914\n",
      "Q19 1844 0.1475554132991918\n",
      "Q22 1947 0.15579739137392976\n",
      "Q23 1956 0.1565175642154117\n"
     ]
    }
   ],
   "source": [
    "# Find the columns with NaN\n",
    "for col_name in df.columns:\n",
    "    if \"Part\" in col_name and \"TEXT\" not in col_name:\n",
    "        df[col_name] = df[col_name].isnull().map({True:0, False:1})\n",
    "    null_n = len(df[df[col_name].isnull()])\n",
    "    if null_n:\n",
    "        print(col_name, null_n, null_n / df.shape[0])"
   ]
  },
  {
   "cell_type": "markdown",
   "metadata": {},
   "source": [
    "### 1.3 Handle columns with nan\n",
    "There are generally two methods handling the missing values in the columns. If the percentage of losing data is high,\n",
    "we prefer to drop the columns. Otherwise we drop the corresponding rows. Also we could fill the missing the data\n",
    "with most common value(for categorical data) or average value(for continuous data)."
   ]
  },
  {
   "cell_type": "markdown",
   "metadata": {},
   "source": [
    "#### 1.3.1 Handle Q11\n",
    "Q11 is \"Approximately how much money have you spent on machine learning and/or cloud computing products at your work in the past 5 years\". There are only around 2% of missing data. Since the categories are ranges of expense, we could not calculate the average value. Therefore, we use the **medium range of expense as the default value**."
   ]
  },
  {
   "cell_type": "code",
   "execution_count": 10,
   "metadata": {},
   "outputs": [
    {
     "data": {
      "text/plain": [
       "array(['$0 (USD)', '> $100,000 ($USD)', '$10,000-$99,999', '$100-$999',\n",
       "       '$1000-$9,999', '$1-$99', nan], dtype=object)"
      ]
     },
     "execution_count": 10,
     "metadata": {},
     "output_type": "execute_result"
    }
   ],
   "source": [
    "df['Q11'].unique()"
   ]
  },
  {
   "cell_type": "code",
   "execution_count": 11,
   "metadata": {},
   "outputs": [
    {
     "name": "stdout",
     "output_type": "stream",
     "text": [
      "The medium value is:  $100-$999\n"
     ]
    },
    {
     "data": {
      "image/png": "[encoded data removed]",
      "text/plain": [
       "<Figure size 864x360 with 1 Axes>"
      ]
     },
     "metadata": {
      "needs_background": "light"
     },
     "output_type": "display_data"
    }
   ],
   "source": [
    "Q11_cates = ['$0 (USD)', '$1-$99', '$100-$999', '$1000-$9,999', '$10,000-$99,999', '> $100,000 ($USD)']\n",
    "fig, ax = plt.subplots(figsize=(12,5))\n",
    "sns.countplot(x='Q11', data=df, ax=ax, order=Q11_cates)\n",
    "# Find the medium value\n",
    "Q11_not_nan_half = (df.shape[0] - len(df[df['Q11'].isnull()]))//2\n",
    "Q11_cnt = collections.Counter(df['Q11'])\n",
    "t = 0\n",
    "Q11_cate_med = Q11_cates[0]\n",
    "for cate in Q11_cates:\n",
    "    t += Q11_cnt[cate]\n",
    "    if t > Q11_not_nan_half:\n",
    "        print(\"The medium value is: \", cate)\n",
    "        Q11_cate_med = cate\n",
    "        break"
   ]
  },
  {
   "cell_type": "code",
   "execution_count": 12,
   "metadata": {},
   "outputs": [
    {
     "data": {
      "text/html": [
       "<div>\n",
       "<style scoped>\n",
       "    .dataframe tbody tr th:only-of-type {\n",
       "        vertical-align: middle;\n",
       "    }\n",
       "\n",
       "    .dataframe tbody tr th {\n",
       "        vertical-align: top;\n",
       "    }\n",
       "\n",
       "    .dataframe thead th {\n",
       "        text-align: right;\n",
       "    }\n",
       "</style>\n",
       "<table border=\"1\" class=\"dataframe\">\n",
       "  <thead>\n",
       "    <tr style=\"text-align: right;\">\n",
       "      <th></th>\n",
       "      <th>Time from Start to Finish (seconds)</th>\n",
       "      <th>Q1</th>\n",
       "      <th>Q2</th>\n",
       "      <th>Q2_OTHER_TEXT</th>\n",
       "      <th>Q3</th>\n",
       "      <th>Q4</th>\n",
       "      <th>Q5</th>\n",
       "      <th>Q5_OTHER_TEXT</th>\n",
       "      <th>Q6</th>\n",
       "      <th>Q7</th>\n",
       "      <th>...</th>\n",
       "      <th>Q34_Part_6</th>\n",
       "      <th>Q34_Part_7</th>\n",
       "      <th>Q34_Part_8</th>\n",
       "      <th>Q34_Part_9</th>\n",
       "      <th>Q34_Part_10</th>\n",
       "      <th>Q34_Part_11</th>\n",
       "      <th>Q34_Part_12</th>\n",
       "      <th>Q34_OTHER_TEXT</th>\n",
       "      <th>Q10_Encoded</th>\n",
       "      <th>Q10_buckets</th>\n",
       "    </tr>\n",
       "  </thead>\n",
       "  <tbody>\n",
       "  </tbody>\n",
       "</table>\n",
       "<p>0 rows × 248 columns</p>\n",
       "</div>"
      ],
      "text/plain": [
       "Empty DataFrame\n",
       "Columns: [Time from Start to Finish (seconds), Q1, Q2, Q2_OTHER_TEXT, Q3, Q4, Q5, Q5_OTHER_TEXT, Q6, Q7, Q8, Q9_Part_1, Q9_Part_2, Q9_Part_3, Q9_Part_4, Q9_Part_5, Q9_Part_6, Q9_Part_7, Q9_Part_8, Q9_OTHER_TEXT, Q10, Q11, Q12_Part_1, Q12_Part_2, Q12_Part_3, Q12_Part_4, Q12_Part_5, Q12_Part_6, Q12_Part_7, Q12_Part_8, Q12_Part_9, Q12_Part_10, Q12_Part_11, Q12_Part_12, Q12_OTHER_TEXT, Q13_Part_1, Q13_Part_2, Q13_Part_3, Q13_Part_4, Q13_Part_5, Q13_Part_6, Q13_Part_7, Q13_Part_8, Q13_Part_9, Q13_Part_10, Q13_Part_11, Q13_Part_12, Q13_OTHER_TEXT, Q14, Q14_Part_1_TEXT, Q14_Part_2_TEXT, Q14_Part_3_TEXT, Q14_Part_4_TEXT, Q14_Part_5_TEXT, Q14_OTHER_TEXT, Q15, Q16_Part_1, Q16_Part_2, Q16_Part_3, Q16_Part_4, Q16_Part_5, Q16_Part_6, Q16_Part_7, Q16_Part_8, Q16_Part_9, Q16_Part_10, Q16_Part_11, Q16_Part_12, Q16_OTHER_TEXT, Q17_Part_1, Q17_Part_2, Q17_Part_3, Q17_Part_4, Q17_Part_5, Q17_Part_6, Q17_Part_7, Q17_Part_8, Q17_Part_9, Q17_Part_10, Q17_Part_11, Q17_Part_12, Q17_OTHER_TEXT, Q18_Part_1, Q18_Part_2, Q18_Part_3, Q18_Part_4, Q18_Part_5, Q18_Part_6, Q18_Part_7, Q18_Part_8, Q18_Part_9, Q18_Part_10, Q18_Part_11, Q18_Part_12, Q18_OTHER_TEXT, Q19, Q19_OTHER_TEXT, Q20_Part_1, Q20_Part_2, Q20_Part_3, ...]\n",
       "Index: []\n",
       "\n",
       "[0 rows x 248 columns]"
      ]
     },
     "execution_count": 12,
     "metadata": {},
     "output_type": "execute_result"
    }
   ],
   "source": [
    "# Set and Verify the modified Q11\n",
    "df.at[df['Q11'].isnull(), 'Q11'] = Q11_cate_med\n",
    "df[df['Q11'].isnull()]"
   ]
  },
  {
   "cell_type": "markdown",
   "metadata": {},
   "source": [
    "#### 1.3.2 Handle Q14\n",
    "Q14 is \"What is the primary tool that you use at work or school to analyze data? (Include text response) - Selected Choice\"."
   ]
  },
  {
   "cell_type": "code",
   "execution_count": 13,
   "metadata": {},
   "outputs": [
    {
     "data": {
      "text/plain": [
       "array(['Basic statistical software (Microsoft Excel, Google Sheets, etc.)',\n",
       "       'Cloud-based data software & APIs (AWS, GCP, Azure, etc.)',\n",
       "       'Local development environments (RStudio, JupyterLab, etc.)',\n",
       "       'Advanced statistical software (SPSS, SAS, etc.)', 'Other',\n",
       "       'Business intelligence software (Salesforce, Tableau, Spotfire, etc.)',\n",
       "       nan], dtype=object)"
      ]
     },
     "execution_count": 13,
     "metadata": {},
     "output_type": "execute_result"
    }
   ],
   "source": [
    "df['Q14'].unique()"
   ]
  },
  {
   "cell_type": "code",
   "execution_count": 14,
   "metadata": {},
   "outputs": [
    {
     "data": {
      "text/plain": [
       "<matplotlib.axes._subplots.AxesSubplot at 0x1a1d62e950>"
      ]
     },
     "execution_count": 14,
     "metadata": {},
     "output_type": "execute_result"
    },
    {
     "data": {
      "image/png": "[encoded data removed]",
      "text/plain": [
       "<Figure size 864x360 with 1 Axes>"
      ]
     },
     "metadata": {
      "needs_background": "light"
     },
     "output_type": "display_data"
    }
   ],
   "source": [
    "Q14_cates = [v for v in df['Q14'].unique() if type(v) == str]\n",
    "fig, ax = plt.subplots(figsize=(12,5))\n",
    "sns.countplot(x='Q14', data=df, ax=ax, order=Q14_cates)"
   ]
  },
  {
   "cell_type": "markdown",
   "metadata": {},
   "source": [
    "Since the third categories has the highest proportion, we fill the missing value in Q14 with 'Local development environments (RStudio, JupyterLab, etc.)'"
   ]
  },
  {
   "cell_type": "code",
   "execution_count": 15,
   "metadata": {},
   "outputs": [
    {
     "data": {
      "text/html": [
       "<div>\n",
       "<style scoped>\n",
       "    .dataframe tbody tr th:only-of-type {\n",
       "        vertical-align: middle;\n",
       "    }\n",
       "\n",
       "    .dataframe tbody tr th {\n",
       "        vertical-align: top;\n",
       "    }\n",
       "\n",
       "    .dataframe thead th {\n",
       "        text-align: right;\n",
       "    }\n",
       "</style>\n",
       "<table border=\"1\" class=\"dataframe\">\n",
       "  <thead>\n",
       "    <tr style=\"text-align: right;\">\n",
       "      <th></th>\n",
       "      <th>Time from Start to Finish (seconds)</th>\n",
       "      <th>Q1</th>\n",
       "      <th>Q2</th>\n",
       "      <th>Q2_OTHER_TEXT</th>\n",
       "      <th>Q3</th>\n",
       "      <th>Q4</th>\n",
       "      <th>Q5</th>\n",
       "      <th>Q5_OTHER_TEXT</th>\n",
       "      <th>Q6</th>\n",
       "      <th>Q7</th>\n",
       "      <th>...</th>\n",
       "      <th>Q34_Part_6</th>\n",
       "      <th>Q34_Part_7</th>\n",
       "      <th>Q34_Part_8</th>\n",
       "      <th>Q34_Part_9</th>\n",
       "      <th>Q34_Part_10</th>\n",
       "      <th>Q34_Part_11</th>\n",
       "      <th>Q34_Part_12</th>\n",
       "      <th>Q34_OTHER_TEXT</th>\n",
       "      <th>Q10_Encoded</th>\n",
       "      <th>Q10_buckets</th>\n",
       "    </tr>\n",
       "  </thead>\n",
       "  <tbody>\n",
       "  </tbody>\n",
       "</table>\n",
       "<p>0 rows × 248 columns</p>\n",
       "</div>"
      ],
      "text/plain": [
       "Empty DataFrame\n",
       "Columns: [Time from Start to Finish (seconds), Q1, Q2, Q2_OTHER_TEXT, Q3, Q4, Q5, Q5_OTHER_TEXT, Q6, Q7, Q8, Q9_Part_1, Q9_Part_2, Q9_Part_3, Q9_Part_4, Q9_Part_5, Q9_Part_6, Q9_Part_7, Q9_Part_8, Q9_OTHER_TEXT, Q10, Q11, Q12_Part_1, Q12_Part_2, Q12_Part_3, Q12_Part_4, Q12_Part_5, Q12_Part_6, Q12_Part_7, Q12_Part_8, Q12_Part_9, Q12_Part_10, Q12_Part_11, Q12_Part_12, Q12_OTHER_TEXT, Q13_Part_1, Q13_Part_2, Q13_Part_3, Q13_Part_4, Q13_Part_5, Q13_Part_6, Q13_Part_7, Q13_Part_8, Q13_Part_9, Q13_Part_10, Q13_Part_11, Q13_Part_12, Q13_OTHER_TEXT, Q14, Q14_Part_1_TEXT, Q14_Part_2_TEXT, Q14_Part_3_TEXT, Q14_Part_4_TEXT, Q14_Part_5_TEXT, Q14_OTHER_TEXT, Q15, Q16_Part_1, Q16_Part_2, Q16_Part_3, Q16_Part_4, Q16_Part_5, Q16_Part_6, Q16_Part_7, Q16_Part_8, Q16_Part_9, Q16_Part_10, Q16_Part_11, Q16_Part_12, Q16_OTHER_TEXT, Q17_Part_1, Q17_Part_2, Q17_Part_3, Q17_Part_4, Q17_Part_5, Q17_Part_6, Q17_Part_7, Q17_Part_8, Q17_Part_9, Q17_Part_10, Q17_Part_11, Q17_Part_12, Q17_OTHER_TEXT, Q18_Part_1, Q18_Part_2, Q18_Part_3, Q18_Part_4, Q18_Part_5, Q18_Part_6, Q18_Part_7, Q18_Part_8, Q18_Part_9, Q18_Part_10, Q18_Part_11, Q18_Part_12, Q18_OTHER_TEXT, Q19, Q19_OTHER_TEXT, Q20_Part_1, Q20_Part_2, Q20_Part_3, ...]\n",
       "Index: []\n",
       "\n",
       "[0 rows x 248 columns]"
      ]
     },
     "execution_count": 15,
     "metadata": {},
     "output_type": "execute_result"
    }
   ],
   "source": [
    "# Set and Verify the modified Q14\n",
    "df.at[df['Q14'].isnull(), 'Q14'] = \"Local development environments (RStudio, JupyterLab, etc.)\"\n",
    "df[df['Q11'].isnull()]"
   ]
  },
  {
   "cell_type": "markdown",
   "metadata": {},
   "source": [
    "#### 1.3.3 Handle Q15\n",
    "Q15 is \"How long have you been writing code to analyze data (at work or at school)?\"."
   ]
  },
  {
   "cell_type": "code",
   "execution_count": 16,
   "metadata": {},
   "outputs": [
    {
     "data": {
      "text/plain": [
       "array(['1-2 years', 'I have never written code', '< 1 years', '20+ years',\n",
       "       '3-5 years', '5-10 years', '10-20 years', nan], dtype=object)"
      ]
     },
     "execution_count": 16,
     "metadata": {},
     "output_type": "execute_result"
    }
   ],
   "source": [
    "df['Q15'].unique()"
   ]
  },
  {
   "cell_type": "code",
   "execution_count": 17,
   "metadata": {},
   "outputs": [
    {
     "name": "stdout",
     "output_type": "stream",
     "text": [
      "The medium value is:  3-5 years\n"
     ]
    },
    {
     "data": {
      "image/png": "[encoded data removed]",
      "text/plain": [
       "<Figure size 864x360 with 1 Axes>"
      ]
     },
     "metadata": {
      "needs_background": "light"
     },
     "output_type": "display_data"
    }
   ],
   "source": [
    "Q15_cates = ['I have never written code', '< 1 years', '1-2 years', '3-5 years', '5-10 years', '10-20 years', '20+ years']\n",
    "fig, ax = plt.subplots(figsize=(12,5))\n",
    "sns.countplot(x='Q15', data=df, ax=ax, order=Q15_cates)\n",
    "# Find the medium value\n",
    "Q15_not_nan_half = (df.shape[0] - len(df[df['Q15'].isnull()]))//2\n",
    "Q15_cnt = collections.Counter(df['Q15'])\n",
    "t = 0\n",
    "Q15_cate_med = Q15_cates[0]\n",
    "for cate in Q15_cates:\n",
    "    t += Q15_cnt[cate]\n",
    "    if t > Q15_not_nan_half:\n",
    "        print(\"The medium value is: \", cate)\n",
    "        Q15_cate_med = cate\n",
    "        break"
   ]
  },
  {
   "cell_type": "code",
   "execution_count": 18,
   "metadata": {},
   "outputs": [
    {
     "data": {
      "text/html": [
       "<div>\n",
       "<style scoped>\n",
       "    .dataframe tbody tr th:only-of-type {\n",
       "        vertical-align: middle;\n",
       "    }\n",
       "\n",
       "    .dataframe tbody tr th {\n",
       "        vertical-align: top;\n",
       "    }\n",
       "\n",
       "    .dataframe thead th {\n",
       "        text-align: right;\n",
       "    }\n",
       "</style>\n",
       "<table border=\"1\" class=\"dataframe\">\n",
       "  <thead>\n",
       "    <tr style=\"text-align: right;\">\n",
       "      <th></th>\n",
       "      <th>Time from Start to Finish (seconds)</th>\n",
       "      <th>Q1</th>\n",
       "      <th>Q2</th>\n",
       "      <th>Q2_OTHER_TEXT</th>\n",
       "      <th>Q3</th>\n",
       "      <th>Q4</th>\n",
       "      <th>Q5</th>\n",
       "      <th>Q5_OTHER_TEXT</th>\n",
       "      <th>Q6</th>\n",
       "      <th>Q7</th>\n",
       "      <th>...</th>\n",
       "      <th>Q34_Part_6</th>\n",
       "      <th>Q34_Part_7</th>\n",
       "      <th>Q34_Part_8</th>\n",
       "      <th>Q34_Part_9</th>\n",
       "      <th>Q34_Part_10</th>\n",
       "      <th>Q34_Part_11</th>\n",
       "      <th>Q34_Part_12</th>\n",
       "      <th>Q34_OTHER_TEXT</th>\n",
       "      <th>Q10_Encoded</th>\n",
       "      <th>Q10_buckets</th>\n",
       "    </tr>\n",
       "  </thead>\n",
       "  <tbody>\n",
       "  </tbody>\n",
       "</table>\n",
       "<p>0 rows × 248 columns</p>\n",
       "</div>"
      ],
      "text/plain": [
       "Empty DataFrame\n",
       "Columns: [Time from Start to Finish (seconds), Q1, Q2, Q2_OTHER_TEXT, Q3, Q4, Q5, Q5_OTHER_TEXT, Q6, Q7, Q8, Q9_Part_1, Q9_Part_2, Q9_Part_3, Q9_Part_4, Q9_Part_5, Q9_Part_6, Q9_Part_7, Q9_Part_8, Q9_OTHER_TEXT, Q10, Q11, Q12_Part_1, Q12_Part_2, Q12_Part_3, Q12_Part_4, Q12_Part_5, Q12_Part_6, Q12_Part_7, Q12_Part_8, Q12_Part_9, Q12_Part_10, Q12_Part_11, Q12_Part_12, Q12_OTHER_TEXT, Q13_Part_1, Q13_Part_2, Q13_Part_3, Q13_Part_4, Q13_Part_5, Q13_Part_6, Q13_Part_7, Q13_Part_8, Q13_Part_9, Q13_Part_10, Q13_Part_11, Q13_Part_12, Q13_OTHER_TEXT, Q14, Q14_Part_1_TEXT, Q14_Part_2_TEXT, Q14_Part_3_TEXT, Q14_Part_4_TEXT, Q14_Part_5_TEXT, Q14_OTHER_TEXT, Q15, Q16_Part_1, Q16_Part_2, Q16_Part_3, Q16_Part_4, Q16_Part_5, Q16_Part_6, Q16_Part_7, Q16_Part_8, Q16_Part_9, Q16_Part_10, Q16_Part_11, Q16_Part_12, Q16_OTHER_TEXT, Q17_Part_1, Q17_Part_2, Q17_Part_3, Q17_Part_4, Q17_Part_5, Q17_Part_6, Q17_Part_7, Q17_Part_8, Q17_Part_9, Q17_Part_10, Q17_Part_11, Q17_Part_12, Q17_OTHER_TEXT, Q18_Part_1, Q18_Part_2, Q18_Part_3, Q18_Part_4, Q18_Part_5, Q18_Part_6, Q18_Part_7, Q18_Part_8, Q18_Part_9, Q18_Part_10, Q18_Part_11, Q18_Part_12, Q18_OTHER_TEXT, Q19, Q19_OTHER_TEXT, Q20_Part_1, Q20_Part_2, Q20_Part_3, ...]\n",
       "Index: []\n",
       "\n",
       "[0 rows x 248 columns]"
      ]
     },
     "execution_count": 18,
     "metadata": {},
     "output_type": "execute_result"
    }
   ],
   "source": [
    "# Set and Verify the modified Q15\n",
    "df.at[df['Q15'].isnull(), 'Q15'] = Q15_cate_med\n",
    "df[df['Q15'].isnull()]"
   ]
  },
  {
   "cell_type": "markdown",
   "metadata": {},
   "source": [
    "#### 1.3.4 Handle Q19\n",
    "Q19 is \"What programming language would you recommend an aspiring data scientist to learn first? - Selected Choice\"."
   ]
  },
  {
   "cell_type": "code",
   "execution_count": 19,
   "metadata": {},
   "outputs": [
    {
     "data": {
      "text/plain": [
       "array(['Python', nan, 'Java', 'R', 'SQL', 'C++', 'None', 'Other', 'C',\n",
       "       'MATLAB', 'TypeScript', 'Javascript', 'Bash'], dtype=object)"
      ]
     },
     "execution_count": 19,
     "metadata": {},
     "output_type": "execute_result"
    }
   ],
   "source": [
    "df['Q19'].unique()"
   ]
  },
  {
   "cell_type": "code",
   "execution_count": 20,
   "metadata": {},
   "outputs": [
    {
     "data": {
      "text/plain": [
       "<matplotlib.axes._subplots.AxesSubplot at 0x1a20883790>"
      ]
     },
     "execution_count": 20,
     "metadata": {},
     "output_type": "execute_result"
    },
    {
     "data": {
      "image/png": "[encoded data removed]",
      "text/plain": [
       "<Figure size 864x360 with 1 Axes>"
      ]
     },
     "metadata": {
      "needs_background": "light"
     },
     "output_type": "display_data"
    }
   ],
   "source": [
    "Q19_cates = [v for v in df['Q19'].unique() if type(v) == str]\n",
    "fig, ax = plt.subplots(figsize=(12,5))\n",
    "sns.countplot(x='Q19', data=df, ax=ax, order=Q19_cates)"
   ]
  },
  {
   "cell_type": "markdown",
   "metadata": {},
   "source": [
    "Since \"Python\" is found to be the language recommended by most people, we fill the missing value with \"Python\""
   ]
  },
  {
   "cell_type": "code",
   "execution_count": 21,
   "metadata": {},
   "outputs": [
    {
     "data": {
      "text/html": [
       "<div>\n",
       "<style scoped>\n",
       "    .dataframe tbody tr th:only-of-type {\n",
       "        vertical-align: middle;\n",
       "    }\n",
       "\n",
       "    .dataframe tbody tr th {\n",
       "        vertical-align: top;\n",
       "    }\n",
       "\n",
       "    .dataframe thead th {\n",
       "        text-align: right;\n",
       "    }\n",
       "</style>\n",
       "<table border=\"1\" class=\"dataframe\">\n",
       "  <thead>\n",
       "    <tr style=\"text-align: right;\">\n",
       "      <th></th>\n",
       "      <th>Time from Start to Finish (seconds)</th>\n",
       "      <th>Q1</th>\n",
       "      <th>Q2</th>\n",
       "      <th>Q2_OTHER_TEXT</th>\n",
       "      <th>Q3</th>\n",
       "      <th>Q4</th>\n",
       "      <th>Q5</th>\n",
       "      <th>Q5_OTHER_TEXT</th>\n",
       "      <th>Q6</th>\n",
       "      <th>Q7</th>\n",
       "      <th>...</th>\n",
       "      <th>Q34_Part_6</th>\n",
       "      <th>Q34_Part_7</th>\n",
       "      <th>Q34_Part_8</th>\n",
       "      <th>Q34_Part_9</th>\n",
       "      <th>Q34_Part_10</th>\n",
       "      <th>Q34_Part_11</th>\n",
       "      <th>Q34_Part_12</th>\n",
       "      <th>Q34_OTHER_TEXT</th>\n",
       "      <th>Q10_Encoded</th>\n",
       "      <th>Q10_buckets</th>\n",
       "    </tr>\n",
       "  </thead>\n",
       "  <tbody>\n",
       "  </tbody>\n",
       "</table>\n",
       "<p>0 rows × 248 columns</p>\n",
       "</div>"
      ],
      "text/plain": [
       "Empty DataFrame\n",
       "Columns: [Time from Start to Finish (seconds), Q1, Q2, Q2_OTHER_TEXT, Q3, Q4, Q5, Q5_OTHER_TEXT, Q6, Q7, Q8, Q9_Part_1, Q9_Part_2, Q9_Part_3, Q9_Part_4, Q9_Part_5, Q9_Part_6, Q9_Part_7, Q9_Part_8, Q9_OTHER_TEXT, Q10, Q11, Q12_Part_1, Q12_Part_2, Q12_Part_3, Q12_Part_4, Q12_Part_5, Q12_Part_6, Q12_Part_7, Q12_Part_8, Q12_Part_9, Q12_Part_10, Q12_Part_11, Q12_Part_12, Q12_OTHER_TEXT, Q13_Part_1, Q13_Part_2, Q13_Part_3, Q13_Part_4, Q13_Part_5, Q13_Part_6, Q13_Part_7, Q13_Part_8, Q13_Part_9, Q13_Part_10, Q13_Part_11, Q13_Part_12, Q13_OTHER_TEXT, Q14, Q14_Part_1_TEXT, Q14_Part_2_TEXT, Q14_Part_3_TEXT, Q14_Part_4_TEXT, Q14_Part_5_TEXT, Q14_OTHER_TEXT, Q15, Q16_Part_1, Q16_Part_2, Q16_Part_3, Q16_Part_4, Q16_Part_5, Q16_Part_6, Q16_Part_7, Q16_Part_8, Q16_Part_9, Q16_Part_10, Q16_Part_11, Q16_Part_12, Q16_OTHER_TEXT, Q17_Part_1, Q17_Part_2, Q17_Part_3, Q17_Part_4, Q17_Part_5, Q17_Part_6, Q17_Part_7, Q17_Part_8, Q17_Part_9, Q17_Part_10, Q17_Part_11, Q17_Part_12, Q17_OTHER_TEXT, Q18_Part_1, Q18_Part_2, Q18_Part_3, Q18_Part_4, Q18_Part_5, Q18_Part_6, Q18_Part_7, Q18_Part_8, Q18_Part_9, Q18_Part_10, Q18_Part_11, Q18_Part_12, Q18_OTHER_TEXT, Q19, Q19_OTHER_TEXT, Q20_Part_1, Q20_Part_2, Q20_Part_3, ...]\n",
       "Index: []\n",
       "\n",
       "[0 rows x 248 columns]"
      ]
     },
     "execution_count": 21,
     "metadata": {},
     "output_type": "execute_result"
    }
   ],
   "source": [
    "# Set and Verify the modified Q19\n",
    "df.at[df['Q19'].isnull(), 'Q19'] = \"Python\"\n",
    "df[df['Q19'].isnull()]"
   ]
  },
  {
   "cell_type": "markdown",
   "metadata": {},
   "source": [
    "#### 1.3.5 Handle Q22\n",
    "Q22 is \"Have you ever used a TPU (tensor processing unit)?\"."
   ]
  },
  {
   "cell_type": "code",
   "execution_count": 22,
   "metadata": {},
   "outputs": [
    {
     "data": {
      "text/plain": [
       "array(['Never', nan, 'Once', '6-24 times', '2-5 times', '> 25 times'],\n",
       "      dtype=object)"
      ]
     },
     "execution_count": 22,
     "metadata": {},
     "output_type": "execute_result"
    }
   ],
   "source": [
    "df['Q22'].unique()"
   ]
  },
  {
   "cell_type": "code",
   "execution_count": 23,
   "metadata": {},
   "outputs": [
    {
     "name": "stdout",
     "output_type": "stream",
     "text": [
      "The medium value is:  Never\n"
     ]
    },
    {
     "data": {
      "image/png": "[encoded data removed]",
      "text/plain": [
       "<Figure size 864x360 with 1 Axes>"
      ]
     },
     "metadata": {
      "needs_background": "light"
     },
     "output_type": "display_data"
    }
   ],
   "source": [
    "Q22_cates = ['Never', 'Once', '2-5 times', '6-24 times', '> 25 times']\n",
    "fig, ax = plt.subplots(figsize=(12,5))\n",
    "sns.countplot(x='Q22', data=df, ax=ax, order=Q22_cates)\n",
    "# Find the medium value\n",
    "Q22_not_nan_half = (df.shape[0] - len(df[df['Q22'].isnull()]))//2\n",
    "Q22_cnt = collections.Counter(df['Q22'])\n",
    "t = 0\n",
    "Q22_cate_med = Q22_cates[0]\n",
    "for cate in Q22_cates:\n",
    "    t += Q22_cnt[cate]\n",
    "    if t > Q22_not_nan_half:\n",
    "        print(\"The medium value is: \", cate)\n",
    "        Q22_cate_med = cate\n",
    "        break"
   ]
  },
  {
   "cell_type": "code",
   "execution_count": 24,
   "metadata": {},
   "outputs": [
    {
     "data": {
      "text/html": [
       "<div>\n",
       "<style scoped>\n",
       "    .dataframe tbody tr th:only-of-type {\n",
       "        vertical-align: middle;\n",
       "    }\n",
       "\n",
       "    .dataframe tbody tr th {\n",
       "        vertical-align: top;\n",
       "    }\n",
       "\n",
       "    .dataframe thead th {\n",
       "        text-align: right;\n",
       "    }\n",
       "</style>\n",
       "<table border=\"1\" class=\"dataframe\">\n",
       "  <thead>\n",
       "    <tr style=\"text-align: right;\">\n",
       "      <th></th>\n",
       "      <th>Time from Start to Finish (seconds)</th>\n",
       "      <th>Q1</th>\n",
       "      <th>Q2</th>\n",
       "      <th>Q2_OTHER_TEXT</th>\n",
       "      <th>Q3</th>\n",
       "      <th>Q4</th>\n",
       "      <th>Q5</th>\n",
       "      <th>Q5_OTHER_TEXT</th>\n",
       "      <th>Q6</th>\n",
       "      <th>Q7</th>\n",
       "      <th>...</th>\n",
       "      <th>Q34_Part_6</th>\n",
       "      <th>Q34_Part_7</th>\n",
       "      <th>Q34_Part_8</th>\n",
       "      <th>Q34_Part_9</th>\n",
       "      <th>Q34_Part_10</th>\n",
       "      <th>Q34_Part_11</th>\n",
       "      <th>Q34_Part_12</th>\n",
       "      <th>Q34_OTHER_TEXT</th>\n",
       "      <th>Q10_Encoded</th>\n",
       "      <th>Q10_buckets</th>\n",
       "    </tr>\n",
       "  </thead>\n",
       "  <tbody>\n",
       "  </tbody>\n",
       "</table>\n",
       "<p>0 rows × 248 columns</p>\n",
       "</div>"
      ],
      "text/plain": [
       "Empty DataFrame\n",
       "Columns: [Time from Start to Finish (seconds), Q1, Q2, Q2_OTHER_TEXT, Q3, Q4, Q5, Q5_OTHER_TEXT, Q6, Q7, Q8, Q9_Part_1, Q9_Part_2, Q9_Part_3, Q9_Part_4, Q9_Part_5, Q9_Part_6, Q9_Part_7, Q9_Part_8, Q9_OTHER_TEXT, Q10, Q11, Q12_Part_1, Q12_Part_2, Q12_Part_3, Q12_Part_4, Q12_Part_5, Q12_Part_6, Q12_Part_7, Q12_Part_8, Q12_Part_9, Q12_Part_10, Q12_Part_11, Q12_Part_12, Q12_OTHER_TEXT, Q13_Part_1, Q13_Part_2, Q13_Part_3, Q13_Part_4, Q13_Part_5, Q13_Part_6, Q13_Part_7, Q13_Part_8, Q13_Part_9, Q13_Part_10, Q13_Part_11, Q13_Part_12, Q13_OTHER_TEXT, Q14, Q14_Part_1_TEXT, Q14_Part_2_TEXT, Q14_Part_3_TEXT, Q14_Part_4_TEXT, Q14_Part_5_TEXT, Q14_OTHER_TEXT, Q15, Q16_Part_1, Q16_Part_2, Q16_Part_3, Q16_Part_4, Q16_Part_5, Q16_Part_6, Q16_Part_7, Q16_Part_8, Q16_Part_9, Q16_Part_10, Q16_Part_11, Q16_Part_12, Q16_OTHER_TEXT, Q17_Part_1, Q17_Part_2, Q17_Part_3, Q17_Part_4, Q17_Part_5, Q17_Part_6, Q17_Part_7, Q17_Part_8, Q17_Part_9, Q17_Part_10, Q17_Part_11, Q17_Part_12, Q17_OTHER_TEXT, Q18_Part_1, Q18_Part_2, Q18_Part_3, Q18_Part_4, Q18_Part_5, Q18_Part_6, Q18_Part_7, Q18_Part_8, Q18_Part_9, Q18_Part_10, Q18_Part_11, Q18_Part_12, Q18_OTHER_TEXT, Q19, Q19_OTHER_TEXT, Q20_Part_1, Q20_Part_2, Q20_Part_3, ...]\n",
       "Index: []\n",
       "\n",
       "[0 rows x 248 columns]"
      ]
     },
     "execution_count": 24,
     "metadata": {},
     "output_type": "execute_result"
    }
   ],
   "source": [
    "# Set and Verify the modified Q22\n",
    "df.at[df['Q22'].isnull(), 'Q22'] = Q22_cate_med\n",
    "df[df['Q22'].isnull()]"
   ]
  },
  {
   "cell_type": "markdown",
   "metadata": {},
   "source": [
    "#### 1.3.6 Handle Q23\n",
    "Q23 is \"For how many years have you used machine learning methods?\"."
   ]
  },
  {
   "cell_type": "code",
   "execution_count": 25,
   "metadata": {},
   "outputs": [
    {
     "data": {
      "text/plain": [
       "array(['1-2 years', nan, '2-3 years', '< 1 years', '10-15 years',\n",
       "       '3-4 years', '4-5 years', '5-10 years', '20+ years'], dtype=object)"
      ]
     },
     "execution_count": 25,
     "metadata": {},
     "output_type": "execute_result"
    }
   ],
   "source": [
    "df['Q23'].unique()"
   ]
  },
  {
   "cell_type": "code",
   "execution_count": 26,
   "metadata": {},
   "outputs": [
    {
     "name": "stdout",
     "output_type": "stream",
     "text": [
      "The medium value is:  1-2 years\n"
     ]
    },
    {
     "data": {
      "image/png": "[encoded data removed]",
      "text/plain": [
       "<Figure size 864x360 with 1 Axes>"
      ]
     },
     "metadata": {
      "needs_background": "light"
     },
     "output_type": "display_data"
    }
   ],
   "source": [
    "Q23_cates = ['< 1 years', '1-2 years', '2-3 years', '3-4 years', '4-5 years', '5-10 years','20+ years']\n",
    "fig, ax = plt.subplots(figsize=(12,5))\n",
    "sns.countplot(x='Q23', data=df, ax=ax, order=Q23_cates)\n",
    "# Find the medium value\n",
    "Q23_not_nan_half = (df.shape[0] - len(df[df['Q23'].isnull()]))//2\n",
    "Q23_cnt = collections.Counter(df['Q23'])\n",
    "t = 0\n",
    "Q23_cate_med = Q23_cates[0]\n",
    "for cate in Q23_cates:\n",
    "    t += Q23_cnt[cate]\n",
    "    if t > Q23_not_nan_half:\n",
    "        print(\"The medium value is: \", cate)\n",
    "        Q23_cate_med = cate\n",
    "        break"
   ]
  },
  {
   "cell_type": "code",
   "execution_count": 27,
   "metadata": {},
   "outputs": [
    {
     "data": {
      "text/html": [
       "<div>\n",
       "<style scoped>\n",
       "    .dataframe tbody tr th:only-of-type {\n",
       "        vertical-align: middle;\n",
       "    }\n",
       "\n",
       "    .dataframe tbody tr th {\n",
       "        vertical-align: top;\n",
       "    }\n",
       "\n",
       "    .dataframe thead th {\n",
       "        text-align: right;\n",
       "    }\n",
       "</style>\n",
       "<table border=\"1\" class=\"dataframe\">\n",
       "  <thead>\n",
       "    <tr style=\"text-align: right;\">\n",
       "      <th></th>\n",
       "      <th>Time from Start to Finish (seconds)</th>\n",
       "      <th>Q1</th>\n",
       "      <th>Q2</th>\n",
       "      <th>Q2_OTHER_TEXT</th>\n",
       "      <th>Q3</th>\n",
       "      <th>Q4</th>\n",
       "      <th>Q5</th>\n",
       "      <th>Q5_OTHER_TEXT</th>\n",
       "      <th>Q6</th>\n",
       "      <th>Q7</th>\n",
       "      <th>...</th>\n",
       "      <th>Q34_Part_6</th>\n",
       "      <th>Q34_Part_7</th>\n",
       "      <th>Q34_Part_8</th>\n",
       "      <th>Q34_Part_9</th>\n",
       "      <th>Q34_Part_10</th>\n",
       "      <th>Q34_Part_11</th>\n",
       "      <th>Q34_Part_12</th>\n",
       "      <th>Q34_OTHER_TEXT</th>\n",
       "      <th>Q10_Encoded</th>\n",
       "      <th>Q10_buckets</th>\n",
       "    </tr>\n",
       "  </thead>\n",
       "  <tbody>\n",
       "  </tbody>\n",
       "</table>\n",
       "<p>0 rows × 248 columns</p>\n",
       "</div>"
      ],
      "text/plain": [
       "Empty DataFrame\n",
       "Columns: [Time from Start to Finish (seconds), Q1, Q2, Q2_OTHER_TEXT, Q3, Q4, Q5, Q5_OTHER_TEXT, Q6, Q7, Q8, Q9_Part_1, Q9_Part_2, Q9_Part_3, Q9_Part_4, Q9_Part_5, Q9_Part_6, Q9_Part_7, Q9_Part_8, Q9_OTHER_TEXT, Q10, Q11, Q12_Part_1, Q12_Part_2, Q12_Part_3, Q12_Part_4, Q12_Part_5, Q12_Part_6, Q12_Part_7, Q12_Part_8, Q12_Part_9, Q12_Part_10, Q12_Part_11, Q12_Part_12, Q12_OTHER_TEXT, Q13_Part_1, Q13_Part_2, Q13_Part_3, Q13_Part_4, Q13_Part_5, Q13_Part_6, Q13_Part_7, Q13_Part_8, Q13_Part_9, Q13_Part_10, Q13_Part_11, Q13_Part_12, Q13_OTHER_TEXT, Q14, Q14_Part_1_TEXT, Q14_Part_2_TEXT, Q14_Part_3_TEXT, Q14_Part_4_TEXT, Q14_Part_5_TEXT, Q14_OTHER_TEXT, Q15, Q16_Part_1, Q16_Part_2, Q16_Part_3, Q16_Part_4, Q16_Part_5, Q16_Part_6, Q16_Part_7, Q16_Part_8, Q16_Part_9, Q16_Part_10, Q16_Part_11, Q16_Part_12, Q16_OTHER_TEXT, Q17_Part_1, Q17_Part_2, Q17_Part_3, Q17_Part_4, Q17_Part_5, Q17_Part_6, Q17_Part_7, Q17_Part_8, Q17_Part_9, Q17_Part_10, Q17_Part_11, Q17_Part_12, Q17_OTHER_TEXT, Q18_Part_1, Q18_Part_2, Q18_Part_3, Q18_Part_4, Q18_Part_5, Q18_Part_6, Q18_Part_7, Q18_Part_8, Q18_Part_9, Q18_Part_10, Q18_Part_11, Q18_Part_12, Q18_OTHER_TEXT, Q19, Q19_OTHER_TEXT, Q20_Part_1, Q20_Part_2, Q20_Part_3, ...]\n",
       "Index: []\n",
       "\n",
       "[0 rows x 248 columns]"
      ]
     },
     "execution_count": 27,
     "metadata": {},
     "output_type": "execute_result"
    }
   ],
   "source": [
    "# Set and Verify the modified Q22\n",
    "df.at[df['Q23'].isnull(), 'Q23'] = Q23_cate_med\n",
    "df[df['Q23'].isnull()]"
   ]
  },
  {
   "cell_type": "markdown",
   "metadata": {},
   "source": [
    "### 1.4 Drop Useless Features\n",
    "First of all, we need to remove **Q10, Q10_buckets**, since it is the duplicate column of 'Q10_Encoded'. \n",
    "Secondly, **Time from Start to Finish (seconds)** is not related to the salaries and we could also delete it.\n",
    "Also, There are some **\"TEXT\"** features, which are integers. While the distance between different integers are different, the feature could be misleading. In the same time, the text could be of great flunctuation in values. Therefore, we plan to drop the these features"
   ]
  },
  {
   "cell_type": "code",
   "execution_count": 28,
   "metadata": {},
   "outputs": [
    {
     "name": "stdout",
     "output_type": "stream",
     "text": [
      "Drop:  ['Q10', 'Q10_buckets', 'Time from Start to Finish (seconds)', 'Q2_OTHER_TEXT', 'Q5_OTHER_TEXT', 'Q9_OTHER_TEXT', 'Q12_OTHER_TEXT', 'Q13_OTHER_TEXT', 'Q14_Part_1_TEXT', 'Q14_Part_2_TEXT', 'Q14_Part_3_TEXT', 'Q14_Part_4_TEXT', 'Q14_Part_5_TEXT', 'Q14_OTHER_TEXT', 'Q16_OTHER_TEXT', 'Q17_OTHER_TEXT', 'Q18_OTHER_TEXT', 'Q19_OTHER_TEXT', 'Q20_OTHER_TEXT', 'Q21_OTHER_TEXT', 'Q24_OTHER_TEXT', 'Q25_OTHER_TEXT', 'Q26_OTHER_TEXT', 'Q27_OTHER_TEXT', 'Q28_OTHER_TEXT', 'Q29_OTHER_TEXT', 'Q30_OTHER_TEXT', 'Q31_OTHER_TEXT', 'Q32_OTHER_TEXT', 'Q33_OTHER_TEXT', 'Q34_OTHER_TEXT']\n"
     ]
    }
   ],
   "source": [
    "drop_cols = ['Q10', 'Q10_buckets', 'Time from Start to Finish (seconds)']\n",
    "for col in df.columns:\n",
    "    if  'OTHER' in col or 'TEXT' in col:\n",
    "        drop_cols.append(col)\n",
    "df.drop(labels=drop_cols, axis=1, inplace=True)\n",
    "print(\"Drop: \", drop_cols)"
   ]
  },
  {
   "cell_type": "markdown",
   "metadata": {},
   "source": [
    "### 1.5 Convert Categorical Variables\n",
    "Categorical variables needs to be converted into numerical values since scikit-learn only takes numerical values as input in a numpy array.\n",
    "\n",
    "We could represent categorical values using numbers, but this encoding implies an **ordered relationship** between the values in the category. To avoid this, we can encode categorical values using dummy variables.\n",
    "\n",
    "Given the categorical features, we can convert these via onehotencoding where each category for each feature becomes a new column. A category's column will get a value of 1 if the original feature belonged to that category. Only one of the categorical feature columns can have of 1.\n",
    "\n",
    "We find that the categorical features are: Q2, Q3, Q5, Q14, Q19"
   ]
  },
  {
   "cell_type": "code",
   "execution_count": 29,
   "metadata": {},
   "outputs": [],
   "source": [
    "# Find the categorical variables\n",
    "cate_cols = ['Q2', 'Q3', 'Q5', 'Q14', 'Q19']\n",
    "for col in cate_cols:\n",
    "    # Create dummy features for each categorical feature\n",
    "    # Drop the first dummy variables because its value is implied\n",
    "    # by the other dummy variable columns\n",
    "    dummies = pd.get_dummies(df[col], prefix=col, drop_first=True)\n",
    "\n",
    "    # Add the new features to the dataframe via concating\n",
    "    df = pd.concat([df, dummies], axis=1)\n",
    "\n",
    "    # Drop the original categorical feature columns\n",
    "    df.drop(col, axis=1, inplace=True)"
   ]
  },
  {
   "cell_type": "markdown",
   "metadata": {},
   "source": [
    "### 1.6 Convert Integer Variables\n",
    "Some columns contains string data but indicates integer values and we need to find and convert them."
   ]
  },
  {
   "cell_type": "code",
   "execution_count": 30,
   "metadata": {},
   "outputs": [
    {
     "name": "stdout",
     "output_type": "stream",
     "text": [
      "Q1 ['22-24' '40-44' '50-54' '55-59' '30-34' '18-21' '35-39' '25-29' '45-49'\n",
      " '60-69' '70+']\n",
      "Q4 ['Master’s degree' 'Professional degree' 'Bachelor’s degree'\n",
      " 'Doctoral degree'\n",
      " 'Some college/university study without earning a bachelor’s degree'\n",
      " 'I prefer not to answer' 'No formal education past high school']\n",
      "Q6 ['1000-9,999 employees' '> 10,000 employees' '0-49 employees'\n",
      " '50-249 employees' '250-999 employees']\n",
      "Q7 ['0' '20+' '3-4' '1-2' '5-9' '10-14' '15-19']\n",
      "Q8 ['I do not know'\n",
      " 'We have well established ML methods (i.e., models in production for more than 2 years)'\n",
      " 'No (we do not use ML methods)'\n",
      " 'We are exploring ML methods (and may one day put a model into production)'\n",
      " 'We recently started using ML methods (i.e., models in production for less than 2 years)'\n",
      " 'We use ML methods for generating insights (but do not put working models into production)']\n",
      "Q11 ['$0 (USD)' '> $100,000 ($USD)' '$10,000-$99,999' '$100-$999'\n",
      " '$1000-$9,999' '$1-$99']\n",
      "Q15 ['1-2 years' 'I have never written code' '< 1 years' '20+ years'\n",
      " '3-5 years' '5-10 years' '10-20 years']\n",
      "Q22 ['Never' 'Once' '6-24 times' '2-5 times' '> 25 times']\n",
      "Q23 ['1-2 years' '2-3 years' '< 1 years' '10-15 years' '3-4 years' '4-5 years'\n",
      " '5-10 years' '20+ years']\n"
     ]
    }
   ],
   "source": [
    "# Print columns which should contain integer values\n",
    "int_cols = []\n",
    "for col in df.columns:\n",
    "    us = list(df[col].unique())\n",
    "    if us != [0,1] and us != [1,0] and col != \"Q10_Encoded\" and col not in cate_cols:\n",
    "        int_cols.append(col)\n",
    "        print(col, df[col].unique())"
   ]
  },
  {
   "cell_type": "code",
   "execution_count": 31,
   "metadata": {},
   "outputs": [
    {
     "name": "stdout",
     "output_type": "stream",
     "text": [
      "Q1:  [1 5 7 8 3 0 4 2 6 9]\n",
      "Q4:  [5 3 4 6 2 0 1]\n",
      "Q6:  [250   1   5  25]\n",
      "Q7:  [0 5 1 2 3 4]\n",
      "Q8:  [0 5 1 3 4 2]\n",
      "Q11:  [   0 1000   10  100    1]\n",
      "Q15:  [ 2  0  1 16  4  8]\n",
      "Q22:  [ 0  1 15  3]\n",
      "Q23:  [ 1  2  0 12  3  4  8]\n"
     ]
    }
   ],
   "source": [
    "# Q1\n",
    "Q1_dt = {'18-21':0, '22-24':1, '25-29':2, '30-34':3, '35-39':4, '40-44':5, '45-49':6, '50-54':7, '55-59':8, \n",
    "         '60-69':9, '70+':9}\n",
    "df['Q1'] = df['Q1'].map(Q1_dt)\n",
    "print(\"Q1: \", df['Q1'].unique())\n",
    "\n",
    "# Q4\n",
    "Q4_dt = {'I prefer not to answer':0, 'No formal education past high school':1, \n",
    "         'Some college/university study without earning a bachelor’s degree':2,\n",
    "         'Professional degree':3, 'Bachelor’s degree':4, 'Master’s degree':5,  \n",
    "         'Doctoral degree':6}\n",
    "df['Q4'] = df['Q4'].map(Q4_dt)\n",
    "print(\"Q4: \", df['Q4'].unique())\n",
    "\n",
    "# Q6\n",
    "Q6_dt = {'0-49 employees':1, '50-249 employees':5, '250-999 employees':25, \n",
    "         '1000-9,999 employees':250, '> 10,000 employees':250}\n",
    "df['Q6'] = df['Q6'].map(Q6_dt)\n",
    "print(\"Q6: \", df['Q6'].unique())\n",
    "\n",
    "# Q7\n",
    "Q7_dt = {'0':0, '1-2':1, '3-4':1, '5-9':2, '10-14':3, '15-19':4, '20+':5}\n",
    "df['Q7'] = df['Q7'].map(Q7_dt)\n",
    "print(\"Q7: \", df['Q7'].unique())\n",
    "\n",
    "# Q8\n",
    "Q8_dt = {'I do not know':0,\n",
    "         'No (we do not use ML methods)': 1,\n",
    "         'We use ML methods for generating insights (but do not put working models into production)':2,\n",
    "         'We are exploring ML methods (and may one day put a model into production)':3,\n",
    "         'We recently started using ML methods (i.e., models in production for less than 2 years)':4,\n",
    "         'We have well established ML methods (i.e., models in production for more than 2 years)':5}\n",
    "df['Q8'] = df['Q8'].map(Q8_dt)\n",
    "print(\"Q8: \", df['Q8'].unique())\n",
    "\n",
    "# Q11\n",
    "Q11_dt = {'$0 (USD)':0, '$1-$99':1, '$100-$999':10, '$1000-$9,999':100, '$10,000-$99,999':1000, \n",
    "          '> $100,000 ($USD)':1000}\n",
    "df['Q11'] = df['Q11'].map(Q11_dt)\n",
    "print(\"Q11: \", df['Q11'].unique())\n",
    "\n",
    "# Q15\n",
    "Q15_dt = {'I have never written code':0, '< 1 years':1, '1-2 years':2, '3-5 years':4,\n",
    "          '5-10 years':8, '10-20 years':16,'20+ years':16}\n",
    "df['Q15'] = df['Q15'].map(Q15_dt)\n",
    "print(\"Q15: \", df['Q15'].unique())\n",
    "\n",
    "# Q22\n",
    "Q22_dt = {'Never':0, 'Once':1, '2-5 times':3, '6-24 times':15, '> 25 times':15}\n",
    "df['Q22'] = df['Q22'].map(Q22_dt)\n",
    "print(\"Q22: \", df[\"Q22\"].unique())\n",
    "\n",
    "# Q23\n",
    "Q23_dt = {'< 1 years':0, '1-2 years':1, '2-3 years':2, '3-4 years':3, '4-5 years':4, '5-10 years':8, \n",
    "          '10-15 years':12, '20+ years':12}\n",
    "df['Q23'] = df['Q23'].map(Q23_dt)\n",
    "print(\"Q23: \", df[\"Q23\"].unique())"
   ]
  },
  {
   "cell_type": "markdown",
   "metadata": {},
   "source": [
    "## 2. Exploratory data analysis"
   ]
  },
  {
   "cell_type": "markdown",
   "metadata": {},
   "source": [
    "Firstly, we have a look at the distribution of Q10_encoding."
   ]
  },
  {
   "cell_type": "code",
   "execution_count": 32,
   "metadata": {},
   "outputs": [
    {
     "data": {
      "text/plain": [
       "<matplotlib.axes._subplots.AxesSubplot at 0x1a1dcb7b90>"
      ]
     },
     "execution_count": 32,
     "metadata": {},
     "output_type": "execute_result"
    },
    {
     "data": {
      "image/png": "[encoded data removed]",
      "text/plain": [
       "<Figure size 720x504 with 1 Axes>"
      ]
     },
     "metadata": {
      "needs_background": "light"
     },
     "output_type": "display_data"
    }
   ],
   "source": [
    "plt.figure(figsize=(10,7))\n",
    "sns.countplot(x='Q10_Encoded', data=df)"
   ]
  },
  {
   "cell_type": "markdown",
   "metadata": {},
   "source": [
    "We find that most of the people have salaries within 0(0-9999$).\n",
    "We further look at the salaries for different genders. "
   ]
  },
  {
   "cell_type": "code",
   "execution_count": 33,
   "metadata": {},
   "outputs": [
    {
     "data": {
      "text/plain": [
       "<matplotlib.axes._subplots.AxesSubplot at 0x1a1df91910>"
      ]
     },
     "execution_count": 33,
     "metadata": {},
     "output_type": "execute_result"
    },
    {
     "data": {
      "image/png": "[encoded data removed]",
      "text/plain": [
       "<Figure size 720x504 with 1 Axes>"
      ]
     },
     "metadata": {
      "needs_background": "light"
     },
     "output_type": "display_data"
    }
   ],
   "source": [
    "plt.figure(figsize=(10,7))\n",
    "sns.boxplot(x='Q2_Male', y='Q10_Encoded', data=df)"
   ]
  },
  {
   "cell_type": "markdown",
   "metadata": {},
   "source": [
    "We find that male has higher salaries than the other genders and the gender features ought to be maintained for prediction.\n",
    "Then we try to analyze the variation of salaries for people at different ages."
   ]
  },
  {
   "cell_type": "code",
   "execution_count": 34,
   "metadata": {},
   "outputs": [
    {
     "data": {
      "text/plain": [
       "<matplotlib.axes._subplots.AxesSubplot at 0x1a1d55d2d0>"
      ]
     },
     "execution_count": 34,
     "metadata": {},
     "output_type": "execute_result"
    },
    {
     "data": {
      "image/png": "[encoded data removed]",
      "text/plain": [
       "<Figure size 940.375x216 with 1 Axes>"
      ]
     },
     "metadata": {
      "needs_background": "light"
     },
     "output_type": "display_data"
    },
    {
     "data": {
      "image/png": "[encoded data removed]",
      "text/plain": [
       "<Figure size 1152x288 with 1 Axes>"
      ]
     },
     "metadata": {
      "needs_background": "light"
     },
     "output_type": "display_data"
    }
   ],
   "source": [
    "facet = sns.FacetGrid(df, hue='Q10_Encoded', aspect=4)\n",
    "facet.map(sns.kdeplot, 'Q1', shade=True)\n",
    "facet.set(xlim=(0, df['Q1'].max()))\n",
    "facet.add_legend()\n",
    "\n",
    "fig, ax = plt.subplots(1,1,figsize=(16,4))\n",
    "age_mean = df[['Q1','Q10_Encoded']].groupby(['Q1'],as_index=False).mean()\n",
    "sns.barplot(x='Q1', y='Q10_Encoded', data=age_mean)"
   ]
  },
  {
   "cell_type": "markdown",
   "metadata": {},
   "source": [
    "We find that younger people tend to have lower wage. As the age grows, people are paid more. However, the speed of growth tends to decrease and the salaries are even reduced at elder age. In our model, it is also necessary to use the age feature to make the prediction."
   ]
  },
  {
   "cell_type": "markdown",
   "metadata": {},
   "source": [
    "Finally, we are going to visualize the order of **feature importance**. Right now, we have over 200 features and we try to pick top 20 features related to Q10_encoded and show it in the figure."
   ]
  },
  {
   "cell_type": "code",
   "execution_count": 35,
   "metadata": {},
   "outputs": [
    {
     "name": "stdout",
     "output_type": "stream",
     "text": [
      "Top 2 columns:  ['Q10_Encoded', 'Q3_United States of America']\n",
      "Top 10 columns:  ['Q10_Encoded', 'Q3_United States of America', 'Q15', 'Q11', 'Q1', 'Q23', 'Q9_Part_3', 'Q8', 'Q7', 'Q9_Part_1']\n"
     ]
    },
    {
     "data": {
      "text/plain": [
       "<matplotlib.axes._subplots.AxesSubplot at 0x1a1dee4710>"
      ]
     },
     "execution_count": 35,
     "metadata": {},
     "output_type": "execute_result"
    },
    {
     "data": {
      "image/png": "[encoded data removed]",
      "text/plain": [
       "<Figure size 1440x1440 with 2 Axes>"
      ]
     },
     "metadata": {
      "needs_background": "light"
     },
     "output_type": "display_data"
    }
   ],
   "source": [
    "fig, ax = plt.subplots(1,1,figsize=(20,20))\n",
    "corr = df.corr()\n",
    "corr_Q10 = corr['Q10_Encoded']\n",
    "print(\"Top 2 columns: \", list(corr_Q10.nlargest(2).index))\n",
    "print(\"Top 10 columns: \", list(corr_Q10.nlargest(10).index))\n",
    "top20 = list(corr_Q10.nlargest(20).index)\n",
    "corr = corr.loc[top20, top20]\n",
    "\n",
    "sns.heatmap(\n",
    "    corr, \n",
    "    vmin=-1, vmax=1, center=0,\n",
    "    cmap=sns.diverging_palette(20, 220, n=200),\n",
    "    ax = ax,\n",
    "    square=True\n",
    ")\n",
    "# ax.set_xticklabels(\n",
    "#     ax.get_xticklabels(),\n",
    "#     rotation=45,\n",
    "#     horizontalalignment='right'\n",
    "# );"
   ]
  },
  {
   "cell_type": "markdown",
   "metadata": {},
   "source": [
    "The most related 5 columns are:\n",
    "* Q3: In which country do you currently reside?\n",
    "* Q15: How long have you been writing code to analyze data (at work or at school)?\n",
    "* Q1: What is your age (# years)?\n",
    "* Q23: For how many years have you used machine learning methods?\n",
    "* Q11: Approximately how much money have you spent on machine learning and/or cloud computing products at your work in the past 5 years?\n",
    "* Q9_Part_3: Q9_Part_3 Select any activities that make up an important part of your role at work: (Select all that apply) - Selected Choice - Build prototypes to explore applying machine learning to new areas\n",
    "* Q8:Does your current employer incorporate machine learning methods into their business?\n",
    "* Q7:Approximately how many individuals are responsible for data science workloads at your place of business?\n",
    "* Q9_Part_1: Select any activities that make up an important part of your role at work: (Select all that apply) - Selected Choice - Analyze and understand data to influence product or business decisions"
   ]
  },
  {
   "cell_type": "markdown",
   "metadata": {},
   "source": [
    "## 3. Feature Selection"
   ]
  },
  {
   "cell_type": "markdown",
   "metadata": {},
   "source": [
    "### 3.1 Split the labels\n",
    "We need to seperate the labels before we do feature selection"
   ]
  },
  {
   "cell_type": "code",
   "execution_count": 36,
   "metadata": {},
   "outputs": [],
   "source": [
    "X = df.drop(['Q10_Encoded'],axis=1)\n",
    "y = df['Q10_Encoded']"
   ]
  },
  {
   "cell_type": "markdown",
   "metadata": {},
   "source": [
    "### 3.2 Removing feature with low variance\n",
    "In most of the columns are binary values. We set the p in Bernuli as 0.9, which means 0.9 * (1 - 0.9) is the variance. It is a really small value. If the variance in some column is smaller than that value, it indicates that the variance in the column is really small and we could simply remove that feature. "
   ]
  },
  {
   "cell_type": "code",
   "execution_count": 37,
   "metadata": {},
   "outputs": [
    {
     "name": "stdout",
     "output_type": "stream",
     "text": [
      "<class 'numpy.ndarray'>\n",
      "(12497, 152)\n"
     ]
    }
   ],
   "source": [
    "from sklearn.feature_selection import VarianceThreshold\n",
    "\n",
    "sel = VarianceThreshold(threshold=(.95 * (1 - .95)))\n",
    "X = sel.fit_transform(X)\n",
    "print(type(X))\n",
    "print(X.shape)"
   ]
  },
  {
   "cell_type": "markdown",
   "metadata": {},
   "source": [
    "### 3.2 Select features with top mutual info\n",
    "Mutual information (MI) between two random variables is a non-negative value, which measures the dependency between the variables. It is equal to zero if and only if two random variables are independent, and higher values mean higher dependency. Then we use SelectKBest method provided in sklearn to select the best 30 features."
   ]
  },
  {
   "cell_type": "code",
   "execution_count": 38,
   "metadata": {},
   "outputs": [
    {
     "name": "stdout",
     "output_type": "stream",
     "text": [
      "X shape:  (12497, 100)\n"
     ]
    }
   ],
   "source": [
    "from sklearn.feature_selection import SelectKBest\n",
    "from sklearn.feature_selection import mutual_info_classif\n",
    "\n",
    "X = SelectKBest(mutual_info_classif, k=100).fit_transform(X, y)\n",
    "print(\"X shape: \", X.shape)"
   ]
  },
  {
   "cell_type": "markdown",
   "metadata": {},
   "source": [
    "## 4. Model implementation"
   ]
  },
  {
   "cell_type": "markdown",
   "metadata": {},
   "source": [
    "### 4.1 Normalization\n",
    "Having features that have different scales can cause problems in some machine learning models since a lot of the models are based on the concept of Euclidean Distances. This means that features with greater scales would have a greater impact on the solution, then those of smaller values.\n",
    "We can rectify this situation my scaling the independent values. This can be done with the scaler function."
   ]
  },
  {
   "cell_type": "code",
   "execution_count": 39,
   "metadata": {},
   "outputs": [],
   "source": [
    "from sklearn.preprocessing import MinMaxScaler\n",
    "\n",
    "scaler = MinMaxScaler()\n",
    "X = scaler.fit_transform(X)"
   ]
  },
  {
   "cell_type": "markdown",
   "metadata": {},
   "source": [
    "### 4.2 Train and Eval logistic regression model with 10-fold cross-validation"
   ]
  },
  {
   "cell_type": "code",
   "execution_count": 40,
   "metadata": {},
   "outputs": [
    {
     "name": "stdout",
     "output_type": "stream",
     "text": [
      "solver:  newton-cg\n",
      "Fold 1: Accuracy: 28.56%\n",
      "Fold 2: Accuracy: 32.24%\n",
      "Fold 3: Accuracy: 32.4%\n",
      "Fold 4: Accuracy: 31.36%\n",
      "Fold 5: Accuracy: 32.32%\n",
      "Fold 6: Accuracy: 35.52%\n",
      "Fold 7: Accuracy: 32.64%\n",
      "Fold 8: Accuracy: 38.671%\n",
      "Fold 9: Accuracy: 42.034%\n",
      "Fold 10: Accuracy: 41.713%\n",
      "Average Score: 34.746%(4.353%)\n",
      "solver:  lbfgs\n",
      "Fold 1: Accuracy: 28.56%\n",
      "Fold 2: Accuracy: 32.24%\n",
      "Fold 3: Accuracy: 32.4%\n",
      "Fold 4: Accuracy: 31.36%\n",
      "Fold 5: Accuracy: 32.32%\n",
      "Fold 6: Accuracy: 35.52%\n",
      "Fold 7: Accuracy: 32.64%\n",
      "Fold 8: Accuracy: 38.671%\n",
      "Fold 9: Accuracy: 42.034%\n",
      "Fold 10: Accuracy: 41.713%\n",
      "Average Score: 34.746%(4.353%)\n",
      "solver:  liblinear\n",
      "Fold 1: Accuracy: 28.32%\n",
      "Fold 2: Accuracy: 32.4%\n",
      "Fold 3: Accuracy: 32.32%\n",
      "Fold 4: Accuracy: 30.96%\n",
      "Fold 5: Accuracy: 32.16%\n",
      "Fold 6: Accuracy: 35.6%\n",
      "Fold 7: Accuracy: 32.56%\n",
      "Fold 8: Accuracy: 38.591%\n",
      "Fold 9: Accuracy: 42.114%\n",
      "Fold 10: Accuracy: 41.633%\n",
      "Average Score: 34.666%(4.423%)\n"
     ]
    }
   ],
   "source": [
    "from sklearn.linear_model import LogisticRegression\n",
    "from sklearn.metrics import accuracy_score, make_scorer\n",
    "from sklearn.model_selection import KFold\n",
    "import warnings\n",
    "#warnings.filterwarnings(\"ignore\", category=ConvergenceWarning)\n",
    "warnings.filterwarnings(\"ignore\")\n",
    "\n",
    "# 10-fold cross validation algorithm\n",
    "def ten_cross_validate(solver):\n",
    "    kfold = KFold(n_splits=10)\n",
    "    kfold.get_n_splits(X)\n",
    "\n",
    "    accuracy = np.zeros(10)\n",
    "    np_idx = 0\n",
    "\n",
    "    for train_idx, test_idx in kfold.split(X):\n",
    "        X_train, X_test = X[train_idx], X[test_idx]\n",
    "        y_train, y_test = y[train_idx], y[test_idx]\n",
    "        \n",
    "        model = LogisticRegression(solver=solver)\n",
    "        model.fit(X_train, y_train)\n",
    "\n",
    "        predictions = model.predict(X_test)\n",
    "\n",
    "        ACC = accuracy_score(y_test, predictions) * 100\n",
    "        accuracy[np_idx] = ACC\n",
    "        np_idx += 1\n",
    "\n",
    "        print (\"Fold {}: Accuracy: {}%\".format(np_idx, round(ACC,3)))   \n",
    "\n",
    "    print (\"Average Score: {}%({}%)\".format(round(np.mean(accuracy),3),round(np.std(accuracy),3)))\n",
    "\n",
    "# solvers = ['newton-cg', 'lbfgs', 'liblinear']\n",
    "# for solver in solvers:\n",
    "#     print(\"solver: \", solver)\n",
    "#     ten_cross_validate(solver)\n",
    "print(\"Best Average Score is: 34.746%(4.353%)\")"
   ]
  },
  {
   "cell_type": "markdown",
   "metadata": {},
   "source": [
    "The mean and std of accurracy of different models has been shown above. Based on mean of accuracy, model with newton-cg has the lowest bias. Based on std of accuracy, model with liblinear also has the lowest variance. Therefore, based on bias-variance trade-off, the model with \"liblinear\" as the solver performs the best."
   ]
  },
  {
   "cell_type": "markdown",
   "metadata": {},
   "source": [
    "## 5. Model Tuning"
   ]
  },
  {
   "cell_type": "code",
   "execution_count": 41,
   "metadata": {},
   "outputs": [
    {
     "name": "stdout",
     "output_type": "stream",
     "text": [
      "<class 'numpy.ndarray'> (8747, 100)\n",
      "<class 'pandas.core.series.Series'> (8747,)\n",
      "<class 'numpy.ndarray'> (3750, 100)\n",
      "<class 'pandas.core.series.Series'> (3750,)\n"
     ]
    }
   ],
   "source": [
    "from sklearn.model_selection import train_test_split\n",
    "\n",
    "X_train, X_test, y_train, y_test = train_test_split(X, y, random_state=42, test_size=0.3)\n",
    "print(type(X_train), X_train.shape)\n",
    "print(type(y_train), y_train.shape)\n",
    "print(type(X_test), X_test.shape)\n",
    "print(type(y_test), y_test.shape)"
   ]
  },
  {
   "cell_type": "code",
   "execution_count": 42,
   "metadata": {},
   "outputs": [
    {
     "name": "stdout",
     "output_type": "stream",
     "text": [
      "Best parameters set found on development set:\n",
      "{'C': 0.1, 'solver': 'newton-cg'}\n",
      "Grid scores on development set:\n",
      "0.326 (+/-0.002) for {'C': 0.001, 'solver': 'newton-cg'}\n",
      "0.326 (+/-0.002) for {'C': 0.001, 'solver': 'lbfgs'}\n",
      "0.327 (+/-0.003) for {'C': 0.001, 'solver': 'liblinear'}\n",
      "0.326 (+/-0.002) for {'C': 0.001, 'solver': 'sag'}\n",
      "0.350 (+/-0.012) for {'C': 0.01, 'solver': 'newton-cg'}\n",
      "0.350 (+/-0.012) for {'C': 0.01, 'solver': 'lbfgs'}\n",
      "0.348 (+/-0.009) for {'C': 0.01, 'solver': 'liblinear'}\n",
      "0.350 (+/-0.012) for {'C': 0.01, 'solver': 'sag'}\n",
      "0.352 (+/-0.008) for {'C': 0.05, 'solver': 'newton-cg'}\n",
      "0.352 (+/-0.008) for {'C': 0.05, 'solver': 'lbfgs'}\n",
      "0.349 (+/-0.009) for {'C': 0.05, 'solver': 'liblinear'}\n",
      "0.352 (+/-0.008) for {'C': 0.05, 'solver': 'sag'}\n",
      "0.353 (+/-0.011) for {'C': 0.1, 'solver': 'newton-cg'}\n",
      "0.353 (+/-0.011) for {'C': 0.1, 'solver': 'lbfgs'}\n",
      "0.351 (+/-0.011) for {'C': 0.1, 'solver': 'liblinear'}\n",
      "0.353 (+/-0.011) for {'C': 0.1, 'solver': 'sag'}\n",
      "0.349 (+/-0.012) for {'C': 0.5, 'solver': 'newton-cg'}\n",
      "0.349 (+/-0.012) for {'C': 0.5, 'solver': 'lbfgs'}\n",
      "0.349 (+/-0.011) for {'C': 0.5, 'solver': 'liblinear'}\n",
      "0.349 (+/-0.012) for {'C': 0.5, 'solver': 'sag'}\n",
      "0.348 (+/-0.013) for {'C': 1, 'solver': 'newton-cg'}\n",
      "0.348 (+/-0.014) for {'C': 1, 'solver': 'lbfgs'}\n",
      "0.348 (+/-0.012) for {'C': 1, 'solver': 'liblinear'}\n",
      "0.348 (+/-0.013) for {'C': 1, 'solver': 'sag'}\n",
      "0.348 (+/-0.013) for {'C': 5, 'solver': 'newton-cg'}\n",
      "0.348 (+/-0.013) for {'C': 5, 'solver': 'lbfgs'}\n",
      "0.348 (+/-0.012) for {'C': 5, 'solver': 'liblinear'}\n",
      "0.348 (+/-0.013) for {'C': 5, 'solver': 'sag'}\n",
      "0.348 (+/-0.013) for {'C': 10, 'solver': 'newton-cg'}\n",
      "0.348 (+/-0.013) for {'C': 10, 'solver': 'lbfgs'}\n",
      "0.348 (+/-0.012) for {'C': 10, 'solver': 'liblinear'}\n",
      "0.348 (+/-0.013) for {'C': 10, 'solver': 'sag'}\n",
      "0.348 (+/-0.012) for {'C': 100, 'solver': 'newton-cg'}\n",
      "0.348 (+/-0.012) for {'C': 100, 'solver': 'lbfgs'}\n",
      "0.348 (+/-0.012) for {'C': 100, 'solver': 'liblinear'}\n",
      "0.348 (+/-0.012) for {'C': 100, 'solver': 'sag'}\n",
      "\n",
      "Detailed classification report:\n",
      "              precision    recall  f1-score   support\n",
      "\n",
      "           0       0.44      0.94      0.60      1194\n",
      "           1       0.16      0.05      0.07       405\n",
      "           2       0.12      0.04      0.06       281\n",
      "           3       0.19      0.05      0.08       224\n",
      "           4       0.07      0.03      0.04       221\n",
      "           5       0.03      0.01      0.01       218\n",
      "           6       0.08      0.02      0.04       173\n",
      "           7       0.10      0.03      0.04       159\n",
      "           8       0.08      0.01      0.02       113\n",
      "           9       0.17      0.01      0.02       125\n",
      "          10       0.15      0.27      0.19       221\n",
      "          11       0.19      0.13      0.16       150\n",
      "          12       0.26      0.21      0.23       143\n",
      "          13       0.00      0.00      0.00        56\n",
      "          14       0.14      0.06      0.08        67\n",
      "\n",
      "    accuracy                           0.35      3750\n",
      "   macro avg       0.15      0.12      0.11      3750\n",
      "weighted avg       0.23      0.35      0.24      3750\n",
      "\n"
     ]
    }
   ],
   "source": [
    "from sklearn.model_selection import GridSearchCV\n",
    "from sklearn.metrics import classification_report\n",
    "\n",
    "parameters = {'solver': ['newton-cg','lbfgs','liblinear','sag'], \n",
    "              'C':[0.001,0.01,0.05,0.1,0.5,1,5,10, 100]}\n",
    "\n",
    "# clf = GridSearchCV(\n",
    "#     LogisticRegression(), parameters, scoring=\"accuracy\", cv=10\n",
    "# )\n",
    "# clf.fit(X_train, y_train)\n",
    "\n",
    "# print(\"Best parameters set found on development set:\")\n",
    "# print(clf.best_params_)\n",
    "# print(\"Grid scores on development set:\")\n",
    "# means = clf.cv_results_['mean_test_score']\n",
    "# stds = clf.cv_results_['std_test_score']\n",
    "# for mean, std, params in zip(means, stds, clf.cv_results_['params']):\n",
    "#     print(\"%0.3f (+/-%0.03f) for %r\"\n",
    "#           % (mean, std * 2, params))\n",
    "# print()\n",
    "\n",
    "# print(\"Detailed classification report:\")\n",
    "# y_true, y_pred = y_test, clf.predict(X_test)\n",
    "# print(classification_report(y_true, y_pred))\n",
    "\n",
    "# optimal_C = clf.best_params_['C']\n",
    "# optimal_solver = clf.best_params_['solver']\n",
    "\n",
    "optimal_C = 0.1\n",
    "optimal_solver = 'newton-cg'\n",
    "print(\"optimal C: \", optimal_C, \" optimal solver: \", optimal_solver)"
   ]
  },
  {
   "cell_type": "markdown",
   "metadata": {},
   "source": [
    "## 6. Testing & Discussion"
   ]
  },
  {
   "cell_type": "markdown",
   "metadata": {},
   "source": [
    "Based on grid search, we found the optimal parameters for the logistic model."
   ]
  },
  {
   "cell_type": "code",
   "execution_count": 51,
   "metadata": {},
   "outputs": [],
   "source": [
    "optimal_model = LogisticRegression(C=optimal_C, solver=optimal_solver)"
   ]
  },
  {
   "cell_type": "markdown",
   "metadata": {},
   "source": [
    "With optimal hyperparameters, we plot the learning curve in the training process."
   ]
  },
  {
   "cell_type": "code",
   "execution_count": 55,
   "metadata": {},
   "outputs": [
    {
     "data": {
      "text/plain": [
       "<module 'matplotlib.pyplot' from '/Users/liuweilin/opt/anaconda3/lib/python3.7/site-packages/matplotlib/pyplot.py'>"
      ]
     },
     "execution_count": 55,
     "metadata": {},
     "output_type": "execute_result"
    },
    {
     "data": {
      "image/png": "[encoded data removed]",
      "text/plain": [
       "<Figure size 720x432 with 1 Axes>"
      ]
     },
     "metadata": {
      "needs_background": "light"
     },
     "output_type": "display_data"
    }
   ],
   "source": [
    "# Plot the learning curve\n",
    "from sklearn.model_selection import learning_curve\n",
    "\n",
    "def plot_learning_curve(estimator, title, X, y, ylim=None, cv=5, n_jobs=1,scoring='accuracy'):\n",
    "    \n",
    "    plt.figure(figsize=(10,6))\n",
    "    plt.title(title)\n",
    "    \n",
    "    if ylim is not None:\n",
    "        plt.ylim(*ylim)\n",
    "        \n",
    "    plt.xlabel(\"Training examples\")\n",
    "    plt.ylabel(scoring)\n",
    "    \n",
    "    #train_sizes=np.linspace(.1, 1.0, cv)\n",
    "    #train_sizes, train_scores, test_scores = learning_curve(estimator, X, y, cv=cv, \\\n",
    "    #  scoring=scoring, n_jobs=n_jobs, train_sizes=train_sizes)\n",
    "\n",
    "    train_sizes = [ 1124,  2248,  3372,  4496,  5620,  6744,  7868,  8992, 10116, 11241]\n",
    "    train_scores = [[0.40569395, 0.4297153,  0.4252669,  0.4252669,  0.4252669,  0.4252669,\n",
    "                      0.4252669,  0.4252669,  0.4252669,  0.4252669, ],\n",
    "                     [0.39457295, 0.3816726,  0.39857651, 0.38656584, 0.38656584, 0.38656584,\n",
    "                      0.38656584, 0.38656584, 0.38656584, 0.38656584],\n",
    "                     [0.37455516, 0.36476868, 0.36150652, 0.38137604, 0.378707,  0.378707,\n",
    "                      0.378707,   0.378707,   0.378707,   0.378707  ],\n",
    "                     [0.3594306,  0.35653915, 0.35787367, 0.36098754, 0.36743772, 0.363879,\n",
    "                      0.363879,   0.363879,   0.363879,   0.363879,  ],\n",
    "                     [0.35765125, 0.35800712, 0.35266904, 0.35587189, 0.37117438, 0.36120996,\n",
    "                      0.35978648, 0.35978648, 0.35978648, 0.35978648],\n",
    "                     [0.36046856, 0.35913405, 0.35483393, 0.36328588, 0.35854093, 0.36892052,\n",
    "                      0.36254448, 0.35779953, 0.35779953, 0.35779953],\n",
    "                     [0.36502288, 0.36197255, 0.3594306,  0.36553127, 0.3641332,  0.36057448,\n",
    "                      0.37430097, 0.36184545, 0.36133706, 0.36133706],\n",
    "                     [0.36209964, 0.36176601, 0.36120996, 0.36143238, 0.36376779, 0.35887456,\n",
    "                      0.36565836, 0.3761121,  0.36232206, 0.36232206],\n",
    "                     [0.36951364, 0.36822855, 0.36694346, 0.37089759, 0.37119415, 0.36625148,\n",
    "                      0.3727758,  0.37000791, 0.37504943, 0.36140767],\n",
    "                     [0.3737212,  0.37514456, 0.37265368, 0.37523352, 0.37674584, 0.371942,\n",
    "                      0.37621208, 0.37576728, 0.37425496, 0.37425496]]\n",
    "    test_scores = [[0.30732484, 0.34235669, 0.33333333, 0.33998404, 0.3256,     0.3349359,\n",
    "                      0.34001604, 0.32905297, 0.34807074, 0.34674175],\n",
    "                     [0.32643312, 0.3455414,  0.33652313, 0.33918595, 0.3336,     0.35096154,\n",
    "                      0.34161989, 0.34109149, 0.35691318, 0.35720032],\n",
    "                     [0.33678344, 0.34474522, 0.34210526, 0.33040702, 0.3344,     0.34775641,\n",
    "                      0.34242181, 0.34510433, 0.35209003, 0.3539823 ],\n",
    "                     [0.33200637, 0.3455414,  0.34210526, 0.33439745, 0.3304,     0.35496795,\n",
    "                      0.34322374, 0.34911717, 0.35048232, 0.35478681],\n",
    "                     [0.3343949,  0.35111465, 0.3492823,  0.34557063, 0.336,      0.35657051,\n",
    "                      0.34562951, 0.35232745, 0.35691318, 0.35559131],\n",
    "                     [0.33996815, 0.34952229, 0.35645933, 0.34557063, 0.3352,     0.35496795,\n",
    "                      0.34562951, 0.34911717, 0.3585209,  0.34352373],\n",
    "                     [0.3455414,  0.33678344, 0.35725678, 0.34796488, 0.3344,     0.34935897,\n",
    "                      0.34242181, 0.35152488, 0.35369775, 0.34674175],\n",
    "                     [0.34474522, 0.34076433, 0.35326954, 0.34317638, 0.3328,     0.36137821,\n",
    "                      0.34001604, 0.3459069,  0.35691318, 0.35237329],\n",
    "                     [0.34235669, 0.34076433, 0.35805423, 0.34158021, 0.3352,     0.3661859,\n",
    "                      0.34322374, 0.34991974, 0.35610932, 0.35076428],\n",
    "                     [0.3455414,  0.34156051, 0.36204147, 0.34078212, 0.3336,     0.36378205,\n",
    "                      0.34081796, 0.34670947, 0.35691318, 0.34593725]]\n",
    "    \n",
    "    train_scores_mean = np.mean(train_scores, axis=1)\n",
    "    train_scores_std = np.std(train_scores, axis=1)\n",
    "    test_scores_mean = np.mean(test_scores, axis=1)\n",
    "    test_scores_std = np.std(test_scores, axis=1)\n",
    "    \n",
    "    plt.grid()\n",
    "\n",
    "    plt.fill_between(train_sizes, train_scores_mean - train_scores_std,\\\n",
    "                     train_scores_mean + train_scores_std, alpha=0.1, \\\n",
    "                     color=\"r\")\n",
    "    plt.fill_between(train_sizes, test_scores_mean - test_scores_std,\\\n",
    "                     test_scores_mean + test_scores_std, alpha=0.1, color=\"g\")\n",
    "    \n",
    "    plt.plot(train_sizes, train_scores_mean, 'o-', color=\"r\",label=\"Training score\")\n",
    "    plt.plot(train_sizes, test_scores_mean, 'o-', color=\"g\", label=\"Cross-validation score\")\n",
    "    plt.legend(loc=\"best\")\n",
    "    \n",
    "    return plt\n",
    "\n",
    "plot_learning_curve(optimal_model,'Logistic Regression', X, y, cv=10)"
   ]
  },
  {
   "cell_type": "markdown",
   "metadata": {},
   "source": [
    "Initially, when training data is small, the accuracy of training data is high but testing is low. As the training data increases, the testing accuracy increases. Finally, both training and testing data remain steady.\n",
    "Then, we try to compare the performance between training data and testing data"
   ]
  },
  {
   "cell_type": "code",
   "execution_count": 56,
   "metadata": {},
   "outputs": [
    {
     "name": "stdout",
     "output_type": "stream",
     "text": [
      "Detailed classification report on train data:\n",
      "              precision    recall  f1-score   support\n",
      "\n",
      "           0       0.44      0.94      0.60      2846\n",
      "           1       0.18      0.05      0.08       957\n",
      "           2       0.17      0.06      0.08       727\n",
      "           3       0.14      0.04      0.06       504\n",
      "           4       0.21      0.10      0.14       498\n",
      "           5       0.17      0.07      0.10       486\n",
      "           6       0.25      0.05      0.09       403\n",
      "           7       0.32      0.08      0.12       365\n",
      "           8       0.33      0.02      0.04       292\n",
      "           9       0.30      0.01      0.02       252\n",
      "          10       0.28      0.41      0.33       529\n",
      "          11       0.33      0.21      0.25       333\n",
      "          12       0.35      0.35      0.35       291\n",
      "          13       1.00      0.03      0.05       109\n",
      "          14       0.35      0.12      0.17       155\n",
      "\n",
      "    accuracy                           0.38      8747\n",
      "   macro avg       0.32      0.17      0.17      8747\n",
      "weighted avg       0.31      0.38      0.28      8747\n",
      "\n",
      "Detailed classification report on test data:\n",
      "              precision    recall  f1-score   support\n",
      "\n",
      "           0       0.44      0.94      0.60      1194\n",
      "           1       0.16      0.05      0.07       405\n",
      "           2       0.12      0.04      0.06       281\n",
      "           3       0.19      0.05      0.08       224\n",
      "           4       0.07      0.03      0.04       221\n",
      "           5       0.03      0.01      0.01       218\n",
      "           6       0.08      0.02      0.04       173\n",
      "           7       0.10      0.03      0.04       159\n",
      "           8       0.08      0.01      0.02       113\n",
      "           9       0.17      0.01      0.02       125\n",
      "          10       0.15      0.27      0.19       221\n",
      "          11       0.19      0.13      0.16       150\n",
      "          12       0.26      0.21      0.23       143\n",
      "          13       0.00      0.00      0.00        56\n",
      "          14       0.14      0.06      0.08        67\n",
      "\n",
      "    accuracy                           0.35      3750\n",
      "   macro avg       0.15      0.12      0.11      3750\n",
      "weighted avg       0.23      0.35      0.24      3750\n",
      "\n"
     ]
    }
   ],
   "source": [
    "X_train, X_test, y_train, y_test = train_test_split(X, y, random_state=42, test_size=0.3)\n",
    "optimal_model.fit(X_train, y_train)\n",
    "train_predictions = optimal_model.predict(X_train)\n",
    "test_predictions = optimal_model.predict(X_test)\n",
    "print(\"Detailed classification report on train data:\")\n",
    "print(classification_report(y_train, train_predictions))\n",
    "print(\"Detailed classification report on test data:\")\n",
    "print(classification_report(y_test, test_predictions))"
   ]
  },
  {
   "cell_type": "markdown",
   "metadata": {},
   "source": [
    "We could find that the accuray in training data is slightly higher than that in testing data, it could be considered as overfitting. In order to solve the **overfitting**, we could add more data to the training dataset and add more weights on the regularization."
   ]
  },
  {
   "cell_type": "code",
   "execution_count": 58,
   "metadata": {},
   "outputs": [
    {
     "name": "stdout",
     "output_type": "stream",
     "text": [
      "{0, 1, 2, 3, 4, 5, 6, 7, 8, 9, 10, 11, 12, 13, 14}\n",
      "{0, 1, 2, 3, 4, 5, 6, 7, 8, 9, 10, 11, 12, 13, 14}\n"
     ]
    }
   ],
   "source": [
    "print(set(train_predictions))\n",
    "print(set(test_predictions))"
   ]
  },
  {
   "cell_type": "code",
   "execution_count": null,
   "metadata": {},
   "outputs": [],
   "source": []
  }
 ],
 "metadata": {
  "kernelspec": {
   "display_name": "Python 3",
   "language": "python",
   "name": "python3"
  },
  "language_info": {
   "codemirror_mode": {
    "name": "ipython",
    "version": 3
   },
   "file_extension": ".py",
   "mimetype": "text/x-python",
   "name": "python",
   "nbconvert_exporter": "python",
   "pygments_lexer": "ipython3",
   "version": "3.7.4"
  }
 },
 "nbformat": 4,
 "nbformat_minor": 2
}
